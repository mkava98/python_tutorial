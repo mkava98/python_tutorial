{
  "nbformat": 4,
  "nbformat_minor": 0,
  "metadata": {
    "colab": {
      "provenance": []
    },
    "kernelspec": {
      "name": "python3",
      "display_name": "Python 3"
    },
    "language_info": {
      "name": "python"
    }
  },
  "cells": [
    {
      "cell_type": "markdown",
      "source": [
        "# NumPy  \n",
        "NumPy is a Python library\n",
        "\n",
        "numerical python"
      ],
      "metadata": {
        "id": "pQzT1mh-cA9x"
      }
    },
    {
      "cell_type": "markdown",
      "source": [
        "[ read more about NumPy ](https://numpy.org/)"
      ],
      "metadata": {
        "id": "oMlhVGeAi0yE"
      }
    },
    {
      "cell_type": "markdown",
      "source": [
        "##install and import"
      ],
      "metadata": {
        "id": "PGSoA6U4PqQk"
      }
    },
    {
      "cell_type": "code",
      "source": [
        "!pip install numpy"
      ],
      "metadata": {
        "colab": {
          "base_uri": "https://localhost:8080/"
        },
        "id": "9xgYSWtCdBGd",
        "outputId": "243b7819-5899-4a45-8c66-da634c66dbd2"
      },
      "execution_count": null,
      "outputs": [
        {
          "output_type": "stream",
          "name": "stdout",
          "text": [
            "Requirement already satisfied: numpy in /usr/local/lib/python3.10/dist-packages (1.25.2)\n"
          ]
        }
      ]
    },
    {
      "cell_type": "code",
      "source": [
        "import numpy as np"
      ],
      "metadata": {
        "id": "DZsuXGSXdEz2"
      },
      "execution_count": null,
      "outputs": []
    },
    {
      "cell_type": "markdown",
      "source": [
        "\n",
        "0D array ---> scalar\n",
        "\n",
        "1D array ---> vector\n",
        "\n",
        "2D array ---> matrix\n",
        "\n",
        "An array with more than two axes ---> tensor\n",
        "\n",
        "![](https://res.cloudinary.com/practicaldev/image/fetch/s--oTgfo1EL--/c_limit%2Cf_auto%2Cfl_progressive%2Cq_auto%2Cw_880/https://raw.githubusercontent.com/adhiraiyan/DeepLearningWithTF2.0/master/notebooks/figures/fig0201a.png)"
      ],
      "metadata": {
        "id": "4TvSnF1oV-C0"
      }
    },
    {
      "cell_type": "markdown",
      "source": [
        "![](https://pbs.twimg.com/media/F0a1yV5WwAAig9U.jpg:large)"
      ],
      "metadata": {
        "id": "qZ7Qspm4V-C1"
      }
    },
    {
      "cell_type": "markdown",
      "source": [
        "## array"
      ],
      "metadata": {
        "id": "xmF3b86XPxBV"
      }
    },
    {
      "cell_type": "code",
      "source": [
        "np.array([[1,2,3],\n",
        "         [1,2,3]])"
      ],
      "metadata": {
        "id": "IBScnvYIjfkE"
      },
      "execution_count": null,
      "outputs": []
    },
    {
      "cell_type": "code",
      "source": [
        "a = np.array([[1,2,3],\n",
        "             [1,2,3],\n",
        "             [1,2,3]])\n",
        "print(a)"
      ],
      "metadata": {
        "colab": {
          "base_uri": "https://localhost:8080/"
        },
        "id": "zM0CfDbUUvpA",
        "outputId": "d9cf9b61-4315-4bcc-bdde-dad54f6c14bc"
      },
      "execution_count": null,
      "outputs": [
        {
          "output_type": "stream",
          "name": "stdout",
          "text": [
            "[[1 2 3]\n",
            " [1 2 3]\n",
            " [1 2 3]]\n"
          ]
        }
      ]
    },
    {
      "cell_type": "code",
      "source": [
        "#dimensions\n",
        "a.ndim"
      ],
      "metadata": {
        "colab": {
          "base_uri": "https://localhost:8080/"
        },
        "id": "vv64Rwg7-Qec",
        "outputId": "cc651a3b-24df-48ab-d755-7931fa6b235b"
      },
      "execution_count": null,
      "outputs": [
        {
          "output_type": "execute_result",
          "data": {
            "text/plain": [
              "2"
            ]
          },
          "metadata": {},
          "execution_count": 3
        }
      ]
    },
    {
      "cell_type": "markdown",
      "source": [
        "\n",
        "\n",
        "```\n",
        "#np.array([])\n",
        "```\n",
        "\n"
      ],
      "metadata": {
        "id": "Y4iXLu1r90Va"
      }
    },
    {
      "cell_type": "code",
      "source": [
        "list1 = [1,2,3,4]\n",
        "x = np.array(list1)\n",
        "print(x)\n",
        "print(type(x))"
      ],
      "metadata": {
        "colab": {
          "base_uri": "https://localhost:8080/"
        },
        "id": "fi9eblNlAEO5",
        "outputId": "d0776d00-da08-4962-f0a5-684a651eeebe"
      },
      "execution_count": null,
      "outputs": [
        {
          "output_type": "stream",
          "name": "stdout",
          "text": [
            "[1 2 3 4]\n",
            "<class 'numpy.ndarray'>\n"
          ]
        }
      ]
    },
    {
      "cell_type": "code",
      "source": [
        "x.ndim"
      ],
      "metadata": {
        "colab": {
          "base_uri": "https://localhost:8080/"
        },
        "id": "KjMQmrXKkfh6",
        "outputId": "80625582-3180-4448-a148-02f7b3b07bc3"
      },
      "execution_count": null,
      "outputs": [
        {
          "output_type": "execute_result",
          "data": {
            "text/plain": [
              "1"
            ]
          },
          "metadata": {},
          "execution_count": 5
        }
      ]
    },
    {
      "cell_type": "markdown",
      "source": [
        "##shape and resize"
      ],
      "metadata": {
        "id": "4N7pEsniP47W"
      }
    },
    {
      "cell_type": "code",
      "source": [
        "np.shape(x)"
      ],
      "metadata": {
        "colab": {
          "base_uri": "https://localhost:8080/"
        },
        "id": "BmknpxFGAhZi",
        "outputId": "e6564585-3384-44a3-d8a7-29afa61702d8"
      },
      "execution_count": null,
      "outputs": [
        {
          "output_type": "execute_result",
          "data": {
            "text/plain": [
              "(4,)"
            ]
          },
          "metadata": {},
          "execution_count": 33
        }
      ]
    },
    {
      "cell_type": "code",
      "source": [
        "y = np. array([[1,2,3],[2,1,1]])\n",
        "np.shape(y)\n",
        "#print(y)"
      ],
      "metadata": {
        "colab": {
          "base_uri": "https://localhost:8080/"
        },
        "id": "mOkVvkY5RO2c",
        "outputId": "f5791c61-1e08-4467-c4fb-15974d470217"
      },
      "execution_count": null,
      "outputs": [
        {
          "output_type": "execute_result",
          "data": {
            "text/plain": [
              "(2, 3)"
            ]
          },
          "metadata": {},
          "execution_count": 6
        }
      ]
    },
    {
      "cell_type": "code",
      "source": [
        "y.ndim"
      ],
      "metadata": {
        "colab": {
          "base_uri": "https://localhost:8080/"
        },
        "id": "nn0iiaOR-T4v",
        "outputId": "dffd31f1-3a62-4ed7-e0d6-dddb86d8cc5d"
      },
      "execution_count": null,
      "outputs": [
        {
          "output_type": "execute_result",
          "data": {
            "text/plain": [
              "2"
            ]
          },
          "metadata": {},
          "execution_count": 31
        }
      ]
    },
    {
      "cell_type": "code",
      "source": [
        "print(x)"
      ],
      "metadata": {
        "colab": {
          "base_uri": "https://localhost:8080/"
        },
        "id": "BeKrewWqZ10A",
        "outputId": "1cebd981-95ac-4ef0-abeb-21278e72d459"
      },
      "execution_count": null,
      "outputs": [
        {
          "output_type": "stream",
          "name": "stdout",
          "text": [
            "[1 2 3 4]\n"
          ]
        }
      ]
    },
    {
      "cell_type": "code",
      "source": [
        "np.resize(x,(3,3))"
      ],
      "metadata": {
        "colab": {
          "base_uri": "https://localhost:8080/"
        },
        "id": "EZdL0xJdBVE0",
        "outputId": "ec1d5cef-1361-4d25-84a7-5bbe50153509"
      },
      "execution_count": null,
      "outputs": [
        {
          "output_type": "execute_result",
          "data": {
            "text/plain": [
              "array([[1, 2, 3],\n",
              "       [4, 1, 2],\n",
              "       [3, 4, 1]])"
            ]
          },
          "metadata": {},
          "execution_count": 35
        }
      ]
    },
    {
      "cell_type": "markdown",
      "source": [
        "## ones"
      ],
      "metadata": {
        "id": "qqMfjK7KP-jP"
      }
    },
    {
      "cell_type": "code",
      "source": [
        "np.ones(3)"
      ],
      "metadata": {
        "colab": {
          "base_uri": "https://localhost:8080/"
        },
        "id": "xlZDkzms-hAi",
        "outputId": "86317c51-ab8f-491b-dab3-eb08e10566bd"
      },
      "execution_count": null,
      "outputs": [
        {
          "output_type": "execute_result",
          "data": {
            "text/plain": [
              "array([1., 1., 1.])"
            ]
          },
          "metadata": {},
          "execution_count": 8
        }
      ]
    },
    {
      "cell_type": "code",
      "source": [
        "np.ones((3,3))"
      ],
      "metadata": {
        "colab": {
          "base_uri": "https://localhost:8080/"
        },
        "id": "EGisN3p4-k3i",
        "outputId": "0c4e0d70-4d27-45d6-d7ff-d3ad292d0d3f"
      },
      "execution_count": null,
      "outputs": [
        {
          "output_type": "execute_result",
          "data": {
            "text/plain": [
              "array([[1., 1., 1.],\n",
              "       [1., 1., 1.],\n",
              "       [1., 1., 1.]])"
            ]
          },
          "metadata": {},
          "execution_count": 9
        }
      ]
    },
    {
      "cell_type": "code",
      "source": [
        "np.ones((3,3,3))"
      ],
      "metadata": {
        "colab": {
          "base_uri": "https://localhost:8080/"
        },
        "id": "nrTlaLvdCa3W",
        "outputId": "10335cee-83c9-4ea6-e137-a0f51c0e6376"
      },
      "execution_count": null,
      "outputs": [
        {
          "output_type": "execute_result",
          "data": {
            "text/plain": [
              "array([[[1., 1., 1.],\n",
              "        [1., 1., 1.],\n",
              "        [1., 1., 1.]],\n",
              "\n",
              "       [[1., 1., 1.],\n",
              "        [1., 1., 1.],\n",
              "        [1., 1., 1.]],\n",
              "\n",
              "       [[1., 1., 1.],\n",
              "        [1., 1., 1.],\n",
              "        [1., 1., 1.]]])"
            ]
          },
          "metadata": {},
          "execution_count": 36
        }
      ]
    },
    {
      "cell_type": "code",
      "source": [
        "np.ones((2,2),int)"
      ],
      "metadata": {
        "colab": {
          "base_uri": "https://localhost:8080/"
        },
        "outputId": "18f8a1db-8884-4997-f1e9-9cc9b3a2c789",
        "id": "gjcD0xHaQQqo"
      },
      "execution_count": null,
      "outputs": [
        {
          "output_type": "execute_result",
          "data": {
            "text/plain": [
              "array([[1, 1],\n",
              "       [1, 1]])"
            ]
          },
          "metadata": {},
          "execution_count": 10
        }
      ]
    },
    {
      "cell_type": "markdown",
      "source": [
        "## zeros"
      ],
      "metadata": {
        "id": "DnhD0Sa4QB9A"
      }
    },
    {
      "cell_type": "code",
      "source": [
        "np.zeros(5)"
      ],
      "metadata": {
        "colab": {
          "base_uri": "https://localhost:8080/"
        },
        "id": "qZbz1hWSc4HN",
        "outputId": "c4cdc0f9-487b-4ab7-de9b-ffae7ae7a972"
      },
      "execution_count": null,
      "outputs": [
        {
          "output_type": "execute_result",
          "data": {
            "text/plain": [
              "array([0., 0., 0., 0., 0.])"
            ]
          },
          "metadata": {},
          "execution_count": 11
        }
      ]
    },
    {
      "cell_type": "code",
      "source": [
        "np.zeros((2,2),int)"
      ],
      "metadata": {
        "colab": {
          "base_uri": "https://localhost:8080/"
        },
        "id": "CZgUq9IDalV_",
        "outputId": "ce35ad85-7842-4c47-fabf-d46e1ac5e779"
      },
      "execution_count": null,
      "outputs": [
        {
          "output_type": "execute_result",
          "data": {
            "text/plain": [
              "array([[0, 0],\n",
              "       [0, 0]])"
            ]
          },
          "metadata": {},
          "execution_count": 12
        }
      ]
    },
    {
      "cell_type": "code",
      "source": [
        "np.zeros((2,3),int)\n"
      ],
      "metadata": {
        "colab": {
          "base_uri": "https://localhost:8080/"
        },
        "id": "XfbzVh-d-xzG",
        "outputId": "12ec8f2f-9872-4ed5-ec49-6297cd2a53b3"
      },
      "execution_count": null,
      "outputs": [
        {
          "output_type": "execute_result",
          "data": {
            "text/plain": [
              "array([[0, 0, 0],\n",
              "       [0, 0, 0]])"
            ]
          },
          "metadata": {},
          "execution_count": 13
        }
      ]
    },
    {
      "cell_type": "markdown",
      "source": [
        "##repeat"
      ],
      "metadata": {
        "id": "CO8e9OuwQFNJ"
      }
    },
    {
      "cell_type": "code",
      "source": [
        "np.repeat([1,2,3,4],4)"
      ],
      "metadata": {
        "colab": {
          "base_uri": "https://localhost:8080/"
        },
        "id": "QKtpjrjh_V8X",
        "outputId": "48ed2e13-bb7c-4117-e66f-fa5e0ba7a65d"
      },
      "execution_count": null,
      "outputs": [
        {
          "output_type": "execute_result",
          "data": {
            "text/plain": [
              "array([1, 1, 1, 1, 2, 2, 2, 2, 3, 3, 3, 3, 4, 4, 4, 4])"
            ]
          },
          "metadata": {},
          "execution_count": 15
        }
      ]
    },
    {
      "cell_type": "code",
      "source": [
        "([1,2,3,4]*4)"
      ],
      "metadata": {
        "colab": {
          "base_uri": "https://localhost:8080/"
        },
        "id": "fY_6a8hr_VzU",
        "outputId": "768c0411-96d1-45ce-bd20-3d5b58df27be"
      },
      "execution_count": null,
      "outputs": [
        {
          "output_type": "execute_result",
          "data": {
            "text/plain": [
              "[1, 2, 3, 4, 1, 2, 3, 4, 1, 2, 3, 4, 1, 2, 3, 4]"
            ]
          },
          "metadata": {},
          "execution_count": 25
        }
      ]
    },
    {
      "cell_type": "markdown",
      "source": [
        "## full"
      ],
      "metadata": {
        "id": "zUJl8uu4QUh0"
      }
    },
    {
      "cell_type": "code",
      "source": [
        "np.full(11,8.3)"
      ],
      "metadata": {
        "colab": {
          "base_uri": "https://localhost:8080/"
        },
        "id": "Em2Qh6Xqfbkt",
        "outputId": "486c9cbc-5d96-4365-edc1-3e75c8187f47"
      },
      "execution_count": null,
      "outputs": [
        {
          "output_type": "execute_result",
          "data": {
            "text/plain": [
              "array([8.3, 8.3, 8.3, 8.3, 8.3, 8.3, 8.3, 8.3, 8.3, 8.3, 8.3])"
            ]
          },
          "metadata": {},
          "execution_count": 16
        }
      ]
    },
    {
      "cell_type": "code",
      "source": [
        "np.full((4,3),3.5)"
      ],
      "metadata": {
        "colab": {
          "base_uri": "https://localhost:8080/"
        },
        "id": "20WNR-ZZfhvo",
        "outputId": "d5ed31d4-f85c-483c-bc80-29eeeabefadf"
      },
      "execution_count": null,
      "outputs": [
        {
          "output_type": "execute_result",
          "data": {
            "text/plain": [
              "array([[3.5, 3.5, 3.5],\n",
              "       [3.5, 3.5, 3.5],\n",
              "       [3.5, 3.5, 3.5],\n",
              "       [3.5, 3.5, 3.5]])"
            ]
          },
          "metadata": {},
          "execution_count": 17
        }
      ]
    },
    {
      "cell_type": "markdown",
      "source": [
        "##vertical stack\n",
        " vstack"
      ],
      "metadata": {
        "id": "CEWrhwMombGM"
      }
    },
    {
      "cell_type": "code",
      "source": [
        "a = np.ones((2,2), int)\n",
        "b = np.full((2,2),6)\n",
        "print(\"a:\",a)\n",
        "print(\"b:\",b)"
      ],
      "metadata": {
        "colab": {
          "base_uri": "https://localhost:8080/"
        },
        "id": "5wSKnYtYeYz6",
        "outputId": "86cc8411-492d-4320-a2d8-57a40383dee6"
      },
      "execution_count": null,
      "outputs": [
        {
          "output_type": "stream",
          "name": "stdout",
          "text": [
            "a: [[1 1]\n",
            " [1 1]]\n",
            "b: [[6 6]\n",
            " [6 6]]\n"
          ]
        }
      ]
    },
    {
      "cell_type": "code",
      "source": [
        "print(a.ndim)"
      ],
      "metadata": {
        "colab": {
          "base_uri": "https://localhost:8080/"
        },
        "id": "84i_1XghhSFJ",
        "outputId": "e89d59bf-43f8-4667-f36e-412f3a20c6f1"
      },
      "execution_count": null,
      "outputs": [
        {
          "output_type": "stream",
          "name": "stdout",
          "text": [
            "2\n"
          ]
        }
      ]
    },
    {
      "cell_type": "code",
      "source": [
        "np.vstack([a,b])\n"
      ],
      "metadata": {
        "colab": {
          "base_uri": "https://localhost:8080/"
        },
        "id": "zewJAhrJeElm",
        "outputId": "fc822109-0dd9-4cc7-bf84-ab04669e1dc7"
      },
      "execution_count": null,
      "outputs": [
        {
          "output_type": "execute_result",
          "data": {
            "text/plain": [
              "array([[1, 1],\n",
              "       [1, 1],\n",
              "       [6, 6],\n",
              "       [6, 6]])"
            ]
          },
          "metadata": {},
          "execution_count": 19
        }
      ]
    },
    {
      "cell_type": "markdown",
      "source": [
        "##horizontal stack\n",
        "hstack"
      ],
      "metadata": {
        "id": "Op4UnbQkmuBQ"
      }
    },
    {
      "cell_type": "code",
      "source": [
        "np.hstack([a,b])"
      ],
      "metadata": {
        "colab": {
          "base_uri": "https://localhost:8080/"
        },
        "id": "9hMSfFeweEHr",
        "outputId": "b168b4e5-d083-4003-ef0f-e3ab4d050fa7"
      },
      "execution_count": null,
      "outputs": [
        {
          "output_type": "execute_result",
          "data": {
            "text/plain": [
              "array([[1, 1, 6, 6],\n",
              "       [1, 1, 6, 6]])"
            ]
          },
          "metadata": {},
          "execution_count": 20
        }
      ]
    },
    {
      "cell_type": "markdown",
      "source": [
        "## Operations"
      ],
      "metadata": {
        "id": "SSjkRpNzQ0BA"
      }
    },
    {
      "cell_type": "code",
      "source": [
        "x = np.array([8,9,6])\n",
        "y = np.array([2,6,3])\n",
        "print(x)\n",
        "print(y)"
      ],
      "metadata": {
        "colab": {
          "base_uri": "https://localhost:8080/"
        },
        "id": "blv_NYKPeEAo",
        "outputId": "7c868a79-7c4a-4266-c15f-f0f36b26e01b"
      },
      "execution_count": null,
      "outputs": [
        {
          "output_type": "stream",
          "name": "stdout",
          "text": [
            "[8 9 6]\n",
            "[2 6 3]\n"
          ]
        }
      ]
    },
    {
      "cell_type": "code",
      "source": [
        "print(x + y)\n",
        "print(x - y)\n",
        "print(x * y)\n",
        "print(x / y)"
      ],
      "metadata": {
        "colab": {
          "base_uri": "https://localhost:8080/"
        },
        "id": "MsqFkD_BpGOa",
        "outputId": "5a5746f8-fa0a-40be-86bc-24e568b71552"
      },
      "execution_count": null,
      "outputs": [
        {
          "output_type": "stream",
          "name": "stdout",
          "text": [
            "[10 15  9]\n",
            "[6 3 3]\n",
            "[16 54 18]\n",
            "[4.  1.5 2. ]\n"
          ]
        }
      ]
    },
    {
      "cell_type": "code",
      "source": [
        "print('plus:', x + y)\n",
        "print('minus:', x - y)\n",
        "print('multiplication:', x * y)\n",
        "print('division:', x / y)"
      ],
      "metadata": {
        "colab": {
          "base_uri": "https://localhost:8080/"
        },
        "id": "7SWFyvszeD57",
        "outputId": "bb04282a-d18d-4330-bfc9-006d8c5d5778"
      },
      "execution_count": null,
      "outputs": [
        {
          "output_type": "stream",
          "name": "stdout",
          "text": [
            "plus: [10 15  9]\n",
            "minus: [6 3 3]\n",
            "multiplication: [16 54 18]\n",
            "division: [4.  1.5 2. ]\n"
          ]
        }
      ]
    },
    {
      "cell_type": "markdown",
      "source": [
        "## Multiplying matrices:"
      ],
      "metadata": {
        "id": "JXU1c986Q8Yx"
      }
    },
    {
      "cell_type": "markdown",
      "source": [
        "Multiplying matrices:\n",
        "\n",
        "![](https://www.mathsisfun.com/algebra/images/matrix-multiply-constant.svg)\n",
        "\n",
        "\n",
        "\n",
        "---\n",
        "\n",
        "\n",
        "![](https://www.mathsisfun.com/algebra/images/matrix-multiply-a.svg)\n",
        "\n",
        "\n",
        "(1, 2, 3) • (7, 9, 11) = 1×7 + 2×9 + 3×11 = 58\n",
        "\n",
        ".\n",
        "\n",
        ".\n",
        "\n",
        ".\n",
        "\n",
        "\n",
        "\n",
        "![](https://www.mathsisfun.com/algebra/images/matrix-multiply-b.svg)\n",
        "\n",
        "(1, 2, 3) • (8, 10, 12) = 1×8 + 2×10 + 3×12 = 64\n",
        "\n",
        "\n",
        "(4, 5, 6) • (7, 9, 11) = 4×7 + 5×9 + 6×11 = 139\n",
        "\n",
        "\n",
        "(4, 5, 6) • (8, 10, 12) = 4×8 + 5×10 + 6×12 = 154\n",
        "\n",
        "![](https://www.mathsisfun.com/algebra/images/matrix-multiply-c.svg)"
      ],
      "metadata": {
        "id": "NyKZUYy4uzeG"
      }
    },
    {
      "cell_type": "code",
      "source": [
        "#np.dot\n",
        "x1 = np.array([[2,3,2],[1,3,2],[4,1,3]])\n",
        "x2 = np.array([[4,5,3],[2,4,1]])\n",
        "print('x1:', x1)\n",
        "print('x2',x2)\n",
        "print('-----------------')\n",
        "x3 = np.dot(x1,x2)\n",
        "print('answer:',x3)"
      ],
      "metadata": {
        "colab": {
          "base_uri": "https://localhost:8080/",
          "height": 339
        },
        "id": "NxgA5e-KwrsQ",
        "outputId": "7930fa99-f95a-450d-debe-8e0de1f968a3"
      },
      "execution_count": null,
      "outputs": [
        {
          "output_type": "stream",
          "name": "stdout",
          "text": [
            "x1: [[2 3 2]\n",
            " [1 3 2]\n",
            " [4 1 3]]\n",
            "x2 [[4 5 3]\n",
            " [2 4 1]]\n",
            "-----------------\n"
          ]
        },
        {
          "output_type": "error",
          "ename": "ValueError",
          "evalue": "shapes (3,3) and (2,3) not aligned: 3 (dim 1) != 2 (dim 0)",
          "traceback": [
            "\u001b[0;31m---------------------------------------------------------------------------\u001b[0m",
            "\u001b[0;31mValueError\u001b[0m                                Traceback (most recent call last)",
            "\u001b[0;32m<ipython-input-22-fe5b7adcf95d>\u001b[0m in \u001b[0;36m<cell line: 7>\u001b[0;34m()\u001b[0m\n\u001b[1;32m      5\u001b[0m \u001b[0mprint\u001b[0m\u001b[0;34m(\u001b[0m\u001b[0;34m'x2'\u001b[0m\u001b[0;34m,\u001b[0m\u001b[0mx2\u001b[0m\u001b[0;34m)\u001b[0m\u001b[0;34m\u001b[0m\u001b[0;34m\u001b[0m\u001b[0m\n\u001b[1;32m      6\u001b[0m \u001b[0mprint\u001b[0m\u001b[0;34m(\u001b[0m\u001b[0;34m'-----------------'\u001b[0m\u001b[0;34m)\u001b[0m\u001b[0;34m\u001b[0m\u001b[0;34m\u001b[0m\u001b[0m\n\u001b[0;32m----> 7\u001b[0;31m \u001b[0mx3\u001b[0m \u001b[0;34m=\u001b[0m \u001b[0mnp\u001b[0m\u001b[0;34m.\u001b[0m\u001b[0mdot\u001b[0m\u001b[0;34m(\u001b[0m\u001b[0mx1\u001b[0m\u001b[0;34m,\u001b[0m\u001b[0mx2\u001b[0m\u001b[0;34m)\u001b[0m\u001b[0;34m\u001b[0m\u001b[0;34m\u001b[0m\u001b[0m\n\u001b[0m\u001b[1;32m      8\u001b[0m \u001b[0mprint\u001b[0m\u001b[0;34m(\u001b[0m\u001b[0;34m'answer:'\u001b[0m\u001b[0;34m,\u001b[0m\u001b[0mx3\u001b[0m\u001b[0;34m)\u001b[0m\u001b[0;34m\u001b[0m\u001b[0;34m\u001b[0m\u001b[0m\n",
            "\u001b[0;31mValueError\u001b[0m: shapes (3,3) and (2,3) not aligned: 3 (dim 1) != 2 (dim 0)"
          ]
        }
      ]
    },
    {
      "cell_type": "code",
      "source": [
        "#reshape\n",
        "x2 = np.array([[4,5,3],[2,4,1]])\n",
        "print(x2)\n",
        "print('---------------')\n",
        "x5 = np.reshape(x2,(3,2))\n",
        "print(x5)"
      ],
      "metadata": {
        "colab": {
          "base_uri": "https://localhost:8080/"
        },
        "id": "p72jyk6ldVJy",
        "outputId": "b284d070-fe10-4e66-9f49-38df1545fa7f"
      },
      "execution_count": null,
      "outputs": [
        {
          "output_type": "stream",
          "name": "stdout",
          "text": [
            "[[4 5 3]\n",
            " [2 4 1]]\n",
            "---------------\n",
            "[[4 5]\n",
            " [3 2]\n",
            " [4 1]]\n"
          ]
        }
      ]
    },
    {
      "cell_type": "code",
      "source": [
        "x1 = np.array([[2,3,2],[1,3,2],[4,1,3]])\n",
        "x2 = np.array([[4,5,3],[2,4,1],[3,1,5]])\n",
        "print('x1:', x1)\n",
        "print('x2',x2)\n",
        "print('-----------------')\n",
        "x3 = np.dot(x1,x2)\n",
        "print('answer:',x3)"
      ],
      "metadata": {
        "colab": {
          "base_uri": "https://localhost:8080/"
        },
        "id": "8N5X6XPIata1",
        "outputId": "b203cae5-0d23-4329-90a5-0bfbe87a7198"
      },
      "execution_count": null,
      "outputs": [
        {
          "output_type": "stream",
          "name": "stdout",
          "text": [
            "x1: [[2 3 2]\n",
            " [1 3 2]\n",
            " [4 1 3]]\n",
            "x2 [[4 5 3]\n",
            " [2 4 1]\n",
            " [3 1 5]]\n",
            "-----------------\n",
            "answer: [[20 24 19]\n",
            " [16 19 16]\n",
            " [27 27 28]]\n"
          ]
        }
      ]
    },
    {
      "cell_type": "markdown",
      "source": [
        "![](https://datascienceparichay.com/wp-content/uploads/2021/07/transpose-a-numpy-array.png)"
      ],
      "metadata": {
        "id": "DPhB89cGYBNe"
      }
    },
    {
      "cell_type": "code",
      "source": [
        "#T transpose\n",
        "x4 = np.array([[2,4,1],[3,1,2]])\n",
        "print(x4)\n",
        "print('---------------')\n",
        "print(x4.T)"
      ],
      "metadata": {
        "colab": {
          "base_uri": "https://localhost:8080/"
        },
        "id": "CmTjKPUTuX5D",
        "outputId": "4972861a-7bee-4212-c2fa-09f0989c6f3c"
      },
      "execution_count": null,
      "outputs": [
        {
          "output_type": "stream",
          "name": "stdout",
          "text": [
            "[[2 4 1]\n",
            " [3 1 2]]\n",
            "---------------\n",
            "[[2 3]\n",
            " [4 1]\n",
            " [1 2]]\n"
          ]
        }
      ]
    },
    {
      "cell_type": "markdown",
      "source": [
        "## sum"
      ],
      "metadata": {
        "id": "bSmvsJ_lGku-"
      }
    },
    {
      "cell_type": "code",
      "source": [
        "r = np.array([1,3,3,6,7,8,9])\n",
        "print(r)"
      ],
      "metadata": {
        "id": "Tkl82Ba7uX2S",
        "colab": {
          "base_uri": "https://localhost:8080/"
        },
        "outputId": "172ceb73-3f8a-42eb-815b-e20a47315968"
      },
      "execution_count": null,
      "outputs": [
        {
          "output_type": "stream",
          "name": "stdout",
          "text": [
            "[1 3 3 6 7 8 9]\n"
          ]
        }
      ]
    },
    {
      "cell_type": "code",
      "source": [
        "r.sum()"
      ],
      "metadata": {
        "id": "HxQiQChoeDzu",
        "colab": {
          "base_uri": "https://localhost:8080/"
        },
        "outputId": "4a176d43-aa5e-409d-aec2-6aa783a4edd5"
      },
      "execution_count": null,
      "outputs": [
        {
          "output_type": "execute_result",
          "data": {
            "text/plain": [
              "37"
            ]
          },
          "metadata": {},
          "execution_count": 24
        }
      ]
    },
    {
      "cell_type": "markdown",
      "source": [
        "## mean"
      ],
      "metadata": {
        "id": "xJYKXwIGPgaC"
      }
    },
    {
      "cell_type": "code",
      "source": [
        "print(r)"
      ],
      "metadata": {
        "colab": {
          "base_uri": "https://localhost:8080/"
        },
        "id": "XrcRIRUXGvwP",
        "outputId": "1799654a-9279-49ee-8429-e329682cca6f"
      },
      "execution_count": null,
      "outputs": [
        {
          "output_type": "stream",
          "name": "stdout",
          "text": [
            "[1 3 3 6 7 8 9]\n"
          ]
        }
      ]
    },
    {
      "cell_type": "code",
      "source": [
        "np.mean(r)"
      ],
      "metadata": {
        "id": "W197Yl6TeDv3",
        "colab": {
          "base_uri": "https://localhost:8080/"
        },
        "outputId": "0f9fb916-eeaa-4a07-c8e8-5d4499dbd514"
      },
      "execution_count": null,
      "outputs": [
        {
          "output_type": "execute_result",
          "data": {
            "text/plain": [
              "5.285714285714286"
            ]
          },
          "metadata": {},
          "execution_count": 62
        }
      ]
    },
    {
      "cell_type": "markdown",
      "source": [
        "## median"
      ],
      "metadata": {
        "id": "xjMJi9r_Pckq"
      }
    },
    {
      "cell_type": "markdown",
      "source": [
        "![](https://upload.wikimedia.org/wikipedia/commons/thumb/c/cf/Finding_the_median.png/1200px-Finding_the_median.png)"
      ],
      "metadata": {
        "id": "3yansiCXm9f4"
      }
    },
    {
      "cell_type": "code",
      "source": [
        "np.median(r)"
      ],
      "metadata": {
        "colab": {
          "base_uri": "https://localhost:8080/"
        },
        "id": "Pa1Zo7Pgg3Hw",
        "outputId": "0ae75a93-24ea-462b-f46e-6f555ec02e46"
      },
      "execution_count": null,
      "outputs": [
        {
          "output_type": "execute_result",
          "data": {
            "text/plain": [
              "6.0"
            ]
          },
          "metadata": {},
          "execution_count": 52
        }
      ]
    },
    {
      "cell_type": "code",
      "source": [
        "r = np.array([1,2,3,4,5,6,8,9])"
      ],
      "metadata": {
        "id": "4xMTVWCpnNG7"
      },
      "execution_count": null,
      "outputs": []
    },
    {
      "cell_type": "code",
      "source": [
        "np.median(r)"
      ],
      "metadata": {
        "colab": {
          "base_uri": "https://localhost:8080/"
        },
        "id": "14G2vIvxnXSc",
        "outputId": "f6900784-cc8c-4bc8-ed6f-ee5184b7b118"
      },
      "execution_count": null,
      "outputs": [
        {
          "output_type": "execute_result",
          "data": {
            "text/plain": [
              "4.5"
            ]
          },
          "metadata": {},
          "execution_count": 54
        }
      ]
    },
    {
      "cell_type": "code",
      "source": [
        "#odd\n",
        "f = np.array([1,6,2,4,3])\n",
        "f"
      ],
      "metadata": {
        "id": "uzA0m3pZY_Z7"
      },
      "execution_count": null,
      "outputs": []
    },
    {
      "cell_type": "code",
      "source": [
        "f = np.sort(f)\n",
        "f"
      ],
      "metadata": {
        "colab": {
          "base_uri": "https://localhost:8080/"
        },
        "id": "nWdmthLRZOCc",
        "outputId": "9b1400f9-289c-4f66-f975-9acbf00a0011"
      },
      "execution_count": null,
      "outputs": [
        {
          "output_type": "execute_result",
          "data": {
            "text/plain": [
              "array([1, 2, 3, 4, 6])"
            ]
          },
          "metadata": {},
          "execution_count": 86
        }
      ]
    },
    {
      "cell_type": "code",
      "source": [
        "np.median(f)"
      ],
      "metadata": {
        "colab": {
          "base_uri": "https://localhost:8080/"
        },
        "id": "l9WfXiE7aC7Q",
        "outputId": "154fe6e2-c09e-4b68-b603-c535dad21a5a"
      },
      "execution_count": null,
      "outputs": [
        {
          "output_type": "execute_result",
          "data": {
            "text/plain": [
              "3.0"
            ]
          },
          "metadata": {},
          "execution_count": 87
        }
      ]
    },
    {
      "cell_type": "code",
      "source": [
        "#even\n",
        "f = np.array([1,6,10,4])"
      ],
      "metadata": {
        "id": "AWupARExaN5A"
      },
      "execution_count": null,
      "outputs": []
    },
    {
      "cell_type": "code",
      "source": [
        "f = np.sort(f)\n",
        "f"
      ],
      "metadata": {
        "colab": {
          "base_uri": "https://localhost:8080/"
        },
        "id": "oW0aN4fNaYvC",
        "outputId": "ef9234bc-ca00-4c77-fd76-2b680e82a22e"
      },
      "execution_count": null,
      "outputs": [
        {
          "output_type": "execute_result",
          "data": {
            "text/plain": [
              "array([ 1,  4,  6, 10])"
            ]
          },
          "metadata": {},
          "execution_count": 93
        }
      ]
    },
    {
      "cell_type": "code",
      "source": [
        "np.median(f)"
      ],
      "metadata": {
        "colab": {
          "base_uri": "https://localhost:8080/"
        },
        "id": "pKFmKIxDaaIr",
        "outputId": "acd154d7-b273-4342-a835-05966b0cced1"
      },
      "execution_count": null,
      "outputs": [
        {
          "output_type": "execute_result",
          "data": {
            "text/plain": [
              "5.0"
            ]
          },
          "metadata": {},
          "execution_count": 94
        }
      ]
    },
    {
      "cell_type": "markdown",
      "source": [
        "##standard deviation"
      ],
      "metadata": {
        "id": "I0k6a4HWPXww"
      }
    },
    {
      "cell_type": "markdown",
      "source": [
        "std ----> standard deviation (انحراف معیار)\n",
        "\n",
        "\n",
        "![](https://encrypted-tbn0.gstatic.com/images?q=tbn:ANd9GcTgL_K-Z2GeGOs-Em82UNM_DcSxNc2u4NIIPr88pgQqhB0d6KTZgRGfpuSG8JriMf7TZvk&usqp=CAU)\n",
        "\n"
      ],
      "metadata": {
        "id": "EPDMP_93oMzW"
      }
    },
    {
      "cell_type": "code",
      "source": [
        "np.std(r)"
      ],
      "metadata": {
        "colab": {
          "base_uri": "https://localhost:8080/"
        },
        "id": "szfevkOmg2_h",
        "outputId": "931ad54f-11e0-4f7d-ade0-b7b84235cc28"
      },
      "execution_count": null,
      "outputs": [
        {
          "output_type": "execute_result",
          "data": {
            "text/plain": [
              "2.762725657973388"
            ]
          },
          "metadata": {},
          "execution_count": 26
        }
      ]
    },
    {
      "cell_type": "markdown",
      "source": [
        "##Slicing in numpy"
      ],
      "metadata": {
        "id": "SLhGdvkGPS3_"
      }
    },
    {
      "cell_type": "code",
      "source": [
        "arr1 = np.array([1, 2, 3, 4, 5, 6, 7])\n",
        "\n",
        "print(arr1[1:5])"
      ],
      "metadata": {
        "colab": {
          "base_uri": "https://localhost:8080/"
        },
        "id": "aW8C5rquxET7",
        "outputId": "21676bcb-6d9e-4034-a4c6-35d7d9427085"
      },
      "execution_count": null,
      "outputs": [
        {
          "output_type": "stream",
          "name": "stdout",
          "text": [
            "[2 3 4 5]\n"
          ]
        }
      ]
    },
    {
      "cell_type": "code",
      "source": [
        "arr2 = np.array([1, 2, 3, 4, 5, 6, 7])\n",
        "\n",
        "print(arr2[4:])"
      ],
      "metadata": {
        "colab": {
          "base_uri": "https://localhost:8080/"
        },
        "id": "cD3IyGDvxK5e",
        "outputId": "d9e2b0bb-6ec5-45a6-b0e6-0842f474d430"
      },
      "execution_count": null,
      "outputs": [
        {
          "output_type": "stream",
          "name": "stdout",
          "text": [
            "[5 6 7]\n"
          ]
        }
      ]
    },
    {
      "cell_type": "code",
      "source": [
        "arr3 = np.array([1, 2, 3, 4, 5, 6, 7])\n",
        "\n",
        "print(arr3[:4])"
      ],
      "metadata": {
        "colab": {
          "base_uri": "https://localhost:8080/"
        },
        "id": "aIrWo0IjxT5P",
        "outputId": "49135a39-c95a-4535-8875-2fce26d0c789"
      },
      "execution_count": null,
      "outputs": [
        {
          "output_type": "stream",
          "name": "stdout",
          "text": [
            "[1 2 3 4]\n"
          ]
        }
      ]
    },
    {
      "cell_type": "code",
      "source": [
        "arr4 = np.array([1, 2, 3, 4, 5, 6, 7])\n",
        "\n",
        "print(arr4[-3:-1])"
      ],
      "metadata": {
        "colab": {
          "base_uri": "https://localhost:8080/"
        },
        "id": "1pl3jNpJxgPh",
        "outputId": "67a6ba9e-0834-4be3-dc92-e39d64b5dbaa"
      },
      "execution_count": null,
      "outputs": [
        {
          "output_type": "stream",
          "name": "stdout",
          "text": [
            "[5 6]\n"
          ]
        }
      ]
    },
    {
      "cell_type": "code",
      "source": [
        "arr5 = np.array([1, 2, 3, 4, 5, 6, 7])\n",
        "\n",
        "print(arr5[1:5:2])"
      ],
      "metadata": {
        "colab": {
          "base_uri": "https://localhost:8080/"
        },
        "id": "3uzSS8dLxr_r",
        "outputId": "038532ec-20b8-40a3-b9bc-a6808746e16c"
      },
      "execution_count": null,
      "outputs": [
        {
          "output_type": "stream",
          "name": "stdout",
          "text": [
            "[2 4]\n"
          ]
        }
      ]
    },
    {
      "cell_type": "code",
      "source": [
        "arr6 = np.array([1, 2, 3, 4, 5, 6, 7])\n",
        "\n",
        "print(arr6[::2])"
      ],
      "metadata": {
        "colab": {
          "base_uri": "https://localhost:8080/"
        },
        "id": "WgB_WVwgyAUP",
        "outputId": "e365905a-bda9-4ff1-962a-3dd6140d34ed"
      },
      "execution_count": null,
      "outputs": [
        {
          "output_type": "stream",
          "name": "stdout",
          "text": [
            "[1 3 5 7]\n"
          ]
        }
      ]
    },
    {
      "cell_type": "markdown",
      "source": [
        "##Slicing 2-D Arrays"
      ],
      "metadata": {
        "id": "_EBWC9JAPNAv"
      }
    },
    {
      "cell_type": "code",
      "source": [
        "#From the second element, slice elements from index 1 to index 4 (not included):\n",
        "\n",
        "arr7 = np.array([[1, 2, 3, 4, 5], [6, 7, 8, 9, 10]])\n",
        "\n",
        "print(arr7[1, 1:4])"
      ],
      "metadata": {
        "colab": {
          "base_uri": "https://localhost:8080/"
        },
        "id": "CsA1-t65yHNo",
        "outputId": "9bf1b090-621c-4dce-fd5c-fca6591a7027"
      },
      "execution_count": null,
      "outputs": [
        {
          "output_type": "stream",
          "name": "stdout",
          "text": [
            "[7 8 9]\n"
          ]
        }
      ]
    },
    {
      "cell_type": "code",
      "source": [
        "#From both elements, return index 2:\n",
        "arr8 = np.array([[1, 2, 3, 4, 5], [6, 7, 8, 9, 10]])\n",
        "\n",
        "print(arr8[0:2, 2])"
      ],
      "metadata": {
        "colab": {
          "base_uri": "https://localhost:8080/"
        },
        "id": "PeQLPd6zygx0",
        "outputId": "233bf06a-37fe-4867-b9cf-da3c01b7d4e0"
      },
      "execution_count": null,
      "outputs": [
        {
          "output_type": "stream",
          "name": "stdout",
          "text": [
            "[3 8]\n"
          ]
        }
      ]
    },
    {
      "cell_type": "code",
      "source": [
        "#From both elements, slice index 1 to index 4 (not included), this will return a 2-D array:\n",
        "arr9 = np.array([[1, 2, 3, 4, 5], [6, 7, 8, 9, 10]])\n",
        "print(arr9)\n",
        "print('--------------')\n",
        "print(arr9[0:2, 1:4])"
      ],
      "metadata": {
        "colab": {
          "base_uri": "https://localhost:8080/"
        },
        "id": "RVNF6M-nyqPO",
        "outputId": "d9fd3113-abac-482b-a589-6c88d4730c1f"
      },
      "execution_count": null,
      "outputs": [
        {
          "output_type": "stream",
          "name": "stdout",
          "text": [
            "[[ 1  2  3  4  5]\n",
            " [ 6  7  8  9 10]]\n",
            "--------------\n",
            "[[2 3 4]\n",
            " [7 8 9]]\n"
          ]
        }
      ]
    },
    {
      "cell_type": "markdown",
      "source": [
        "## New Section"
      ],
      "metadata": {
        "id": "crf3mm63Wq_b"
      }
    },
    {
      "cell_type": "code",
      "source": [
        "x1 = np.array([[2,3,2],[1,3,2],[4,1,3]])\n",
        "print(x1)\n",
        "print('------------')\n",
        "print(x1[x1>2])"
      ],
      "metadata": {
        "colab": {
          "base_uri": "https://localhost:8080/"
        },
        "id": "dhkOPIdKyz_h",
        "outputId": "75b0b14c-408a-41fd-a75e-df375f002f0d"
      },
      "execution_count": null,
      "outputs": [
        {
          "output_type": "stream",
          "name": "stdout",
          "text": [
            "[[2 3 2]\n",
            " [1 3 2]\n",
            " [4 1 3]]\n",
            "------------\n"
          ]
        },
        {
          "output_type": "execute_result",
          "data": {
            "text/plain": [
              "array([3, 3, 4, 3])"
            ]
          },
          "metadata": {},
          "execution_count": 2
        }
      ]
    },
    {
      "cell_type": "code",
      "source": [
        "x1[x1>2] = 0\n",
        "print(x1)"
      ],
      "metadata": {
        "colab": {
          "base_uri": "https://localhost:8080/"
        },
        "id": "4QyqBksYygY6",
        "outputId": "ada29a52-59da-43f1-cd02-9753685f2ad2"
      },
      "execution_count": null,
      "outputs": [
        {
          "output_type": "stream",
          "name": "stdout",
          "text": [
            "[[2 0 2]\n",
            " [1 0 2]\n",
            " [0 1 0]]\n"
          ]
        }
      ]
    },
    {
      "cell_type": "code",
      "source": [
        "x1 = np.array([[2,3,2],[1,3,2],[4,1,3]])\n",
        "print(x1)\n",
        "\n",
        "print('---------')\n",
        "\n",
        "x1[0,0:2] = 0\n",
        "print(x1)\n"
      ],
      "metadata": {
        "colab": {
          "base_uri": "https://localhost:8080/"
        },
        "id": "Mqg4UgO-4N63",
        "outputId": "870115e7-718b-479c-f701-9e6e6e0f6a64"
      },
      "execution_count": null,
      "outputs": [
        {
          "output_type": "stream",
          "name": "stdout",
          "text": [
            "[[2 3 2]\n",
            " [1 3 2]\n",
            " [4 1 3]]\n",
            "---------\n",
            "[[0 0 2]\n",
            " [1 3 2]\n",
            " [4 1 3]]\n"
          ]
        }
      ]
    },
    {
      "cell_type": "markdown",
      "source": [
        "## numpy.arange\n",
        "\n",
        "\n",
        "\n",
        "```\n",
        "numpy.arange([start, ]stop, [step, ]dtype=None, *, like=None)\n",
        "```\n",
        "\n"
      ],
      "metadata": {
        "id": "BUZ1YVsjcs9T"
      }
    },
    {
      "cell_type": "code",
      "source": [
        "np.arange(0,10,1)"
      ],
      "metadata": {
        "id": "OKaK_JC5nVJg",
        "colab": {
          "base_uri": "https://localhost:8080/"
        },
        "outputId": "2f3fea59-7fbc-420b-c2e0-9f658ffbad1b"
      },
      "execution_count": null,
      "outputs": [
        {
          "output_type": "execute_result",
          "data": {
            "text/plain": [
              "array([0, 1, 2, 3, 4, 5, 6, 7, 8, 9])"
            ]
          },
          "metadata": {},
          "execution_count": 78
        }
      ]
    },
    {
      "cell_type": "code",
      "source": [
        "np.arange(0,10,2)"
      ],
      "metadata": {
        "colab": {
          "base_uri": "https://localhost:8080/"
        },
        "id": "tYfz8Qmh9IOX",
        "outputId": "9844ff77-7dcc-4294-cf21-19e700c7c788"
      },
      "execution_count": null,
      "outputs": [
        {
          "output_type": "execute_result",
          "data": {
            "text/plain": [
              "array([0, 2, 4, 6, 8])"
            ]
          },
          "metadata": {},
          "execution_count": 79
        }
      ]
    },
    {
      "cell_type": "code",
      "source": [
        "np.arange(0,10)"
      ],
      "metadata": {
        "colab": {
          "base_uri": "https://localhost:8080/"
        },
        "id": "xZsrgDtM9KY8",
        "outputId": "c04cbe1c-47e6-4897-c050-011b43ea5206"
      },
      "execution_count": null,
      "outputs": [
        {
          "output_type": "execute_result",
          "data": {
            "text/plain": [
              "array([0, 1, 2, 3, 4, 5, 6, 7, 8, 9])"
            ]
          },
          "metadata": {},
          "execution_count": 80
        }
      ]
    },
    {
      "cell_type": "markdown",
      "source": [
        "## numpy.linspace\n",
        "\n",
        "\n",
        "\n",
        "```\n",
        "numpy.linspace(start, stop, num=50, endpoint=True, retstep=False, dtype=None, axis=0)[source]\n",
        "```\n",
        "\n"
      ],
      "metadata": {
        "id": "KctrM4R0cf7E"
      }
    },
    {
      "cell_type": "code",
      "source": [
        "np.linspace?"
      ],
      "metadata": {
        "id": "bp5hfh_ccEn5"
      },
      "execution_count": null,
      "outputs": []
    },
    {
      "cell_type": "code",
      "source": [
        "np.linspace(0,10,11,dtype=int)"
      ],
      "metadata": {
        "colab": {
          "base_uri": "https://localhost:8080/"
        },
        "id": "k_X6lTbH9gR4",
        "outputId": "08fb2c2a-973a-4460-a10f-05dea9cacd87"
      },
      "execution_count": null,
      "outputs": [
        {
          "output_type": "execute_result",
          "data": {
            "text/plain": [
              "array([ 0,  1,  2,  3,  4,  5,  6,  7,  8,  9, 10])"
            ]
          },
          "metadata": {},
          "execution_count": 69
        }
      ]
    },
    {
      "cell_type": "markdown",
      "source": [
        "##concatenate"
      ],
      "metadata": {
        "id": "6RfJLd3IO7ns"
      }
    },
    {
      "cell_type": "code",
      "source": [
        "z1 = np.array([2,3,1,4])\n",
        "z2 = np.array([1,2,4,4])\n",
        "np.concatenate((z1,z2))"
      ],
      "metadata": {
        "colab": {
          "base_uri": "https://localhost:8080/"
        },
        "id": "e8VjtZJF-F1V",
        "outputId": "68f3a1a7-1538-4fd1-d626-fb57cfaee82c"
      },
      "execution_count": null,
      "outputs": [
        {
          "output_type": "execute_result",
          "data": {
            "text/plain": [
              "array([2, 3, 1, 4, 1, 2, 4, 4])"
            ]
          },
          "metadata": {},
          "execution_count": 92
        }
      ]
    },
    {
      "cell_type": "markdown",
      "source": [
        "##argmin/argmax"
      ],
      "metadata": {
        "id": "9zL33EvjO33D"
      }
    },
    {
      "cell_type": "code",
      "source": [
        "#0,1,2,3\n",
        "w=[2,9,3,7]"
      ],
      "metadata": {
        "id": "3jAbW7-kvJ_H"
      },
      "execution_count": null,
      "outputs": []
    },
    {
      "cell_type": "code",
      "source": [
        "k = np.array([11,7,21,9,5,17])\n",
        "print(np.argmin(k))\n",
        "print(np.argmax(k))"
      ],
      "metadata": {
        "colab": {
          "base_uri": "https://localhost:8080/"
        },
        "id": "krduh1qG-SRO",
        "outputId": "c318057a-6ba5-4d1f-adaf-2e19bf0bac52"
      },
      "execution_count": null,
      "outputs": [
        {
          "output_type": "stream",
          "name": "stdout",
          "text": [
            "4\n",
            "2\n"
          ]
        }
      ]
    }
  ]
}