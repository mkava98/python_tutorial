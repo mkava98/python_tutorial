{
  "nbformat": 4,
  "nbformat_minor": 0,
  "metadata": {
    "colab": {
      "provenance": []
    },
    "kernelspec": {
      "name": "python3",
      "display_name": "Python 3"
    },
    "language_info": {
      "name": "python"
    }
  },
  "cells": [
    {
      "cell_type": "markdown",
      "source": [
        "#0.google colab (part1):\n",
        "\n",
        "\n"
      ],
      "metadata": {
        "id": "Tvi3OvPkB5vv"
      }
    },
    {
      "cell_type": "code",
      "source": [
        "print('Hello!')\n",
        "print(\"Hello!\")\n",
        "# both are correct"
      ],
      "metadata": {
        "id": "lg5xMYLe5iuX",
        "colab": {
          "base_uri": "https://localhost:8080/"
        },
        "outputId": "3215319d-fb13-4c69-d860-11ef4fa2b070"
      },
      "execution_count": null,
      "outputs": [
        {
          "output_type": "stream",
          "name": "stdout",
          "text": [
            "Hello!\n",
            "Hello!\n"
          ]
        }
      ]
    },
    {
      "cell_type": "code",
      "source": [
        "#install python packages\n",
        "!pip install name-packeges"
      ],
      "metadata": {
        "id": "nGjCXvfh-kuo"
      },
      "execution_count": null,
      "outputs": []
    },
    {
      "cell_type": "code",
      "source": [
        "import numpy as np\n",
        "import pandas as pd\n",
        "import matplotlib.pyplot as plt"
      ],
      "metadata": {
        "id": "JZkKUd-8-zSp"
      },
      "execution_count": null,
      "outputs": []
    },
    {
      "cell_type": "code",
      "source": [
        "#Cloning GitHub repository:\n",
        "#!git clone <GitHub repo url>\n",
        "#example:\n",
        "!git clone 'https://github.com/mkava98/MMBERT.git'"
      ],
      "metadata": {
        "id": "tHSw1Ewb7qS2",
        "colab": {
          "base_uri": "https://localhost:8080/"
        },
        "outputId": "a58547e3-4715-4957-fe31-dc821fda2e1d"
      },
      "execution_count": null,
      "outputs": [
        {
          "output_type": "stream",
          "name": "stdout",
          "text": [
            "Cloning into 'MMBERT'...\n",
            "remote: Enumerating objects: 5031, done.\u001b[K\n",
            "remote: Counting objects: 100% (121/121), done.\u001b[K\n",
            "remote: Compressing objects: 100% (22/22), done.\u001b[K\n",
            "remote: Total 5031 (delta 104), reused 109 (delta 99), pack-reused 4910\u001b[K\n",
            "Receiving objects: 100% (5031/5031), 188.68 MiB | 16.12 MiB/s, done.\n",
            "Resolving deltas: 100% (302/302), done.\n",
            "Updating files: 100% (4576/4576), done.\n"
          ]
        }
      ]
    },
    {
      "cell_type": "code",
      "source": [
        "#To download files\n",
        "#!wget <insert link> -P path\n",
        "#-p for creat parents path\n",
        "\n",
        "#example\n",
        "!wget https://s3-us-west-1.amazonaws.com/udacity-aind/dog-project/dogImages.zip"
      ],
      "metadata": {
        "id": "juOXyrfCNZIb",
        "outputId": "ea1893de-cfa9-4e25-e325-264c0b37b32d",
        "colab": {
          "base_uri": "https://localhost:8080/"
        }
      },
      "execution_count": null,
      "outputs": [
        {
          "output_type": "stream",
          "name": "stdout",
          "text": [
            "--2024-02-17 17:46:52--  https://s3-us-west-1.amazonaws.com/udacity-aind/dog-project/dogImages.zip\n",
            "Resolving s3-us-west-1.amazonaws.com (s3-us-west-1.amazonaws.com)... 52.219.116.64, 52.219.113.136, 52.219.116.120, ...\n",
            "Connecting to s3-us-west-1.amazonaws.com (s3-us-west-1.amazonaws.com)|52.219.116.64|:443... connected.\n",
            "HTTP request sent, awaiting response... 200 OK\n",
            "Length: 1132023110 (1.1G) [application/zip]\n",
            "Saving to: ‘dogImages.zip’\n",
            "\n",
            "dogImages.zip       100%[===================>]   1.05G  16.0MB/s    in 68s     \n",
            "\n",
            "2024-02-17 17:48:01 (15.8 MB/s) - ‘dogImages.zip’ saved [1132023110/1132023110]\n",
            "\n"
          ]
        }
      ]
    },
    {
      "cell_type": "code",
      "source": [
        "#To unzip file\n",
        "!unzip -q   dogImages.zip  -d  path"
      ],
      "metadata": {
        "id": "sH-O9J1vNFJS"
      },
      "execution_count": null,
      "outputs": []
    },
    {
      "cell_type": "code",
      "source": [
        "!unzip dogImages.zip"
      ],
      "metadata": {
        "id": "gjUzn4_jLwfA"
      },
      "execution_count": null,
      "outputs": []
    },
    {
      "cell_type": "code",
      "source": [
        "!rm -r dogImages.zip"
      ],
      "metadata": {
        "id": "TIS31OzFL7Kc"
      },
      "execution_count": null,
      "outputs": []
    },
    {
      "cell_type": "code",
      "source": [
        "# remove folder\n",
        "!rm -rf <folder name>"
      ],
      "metadata": {
        "id": "tXSi213e_bs1"
      },
      "execution_count": null,
      "outputs": []
    },
    {
      "cell_type": "code",
      "source": [
        "#create folder\n",
        "!mkdir name-file"
      ],
      "metadata": {
        "id": "vde_x4sKIXOS"
      },
      "execution_count": null,
      "outputs": []
    },
    {
      "cell_type": "code",
      "source": [
        "#change file_name\n",
        "!mv current_name  New_name"
      ],
      "metadata": {
        "id": "BcTUJMralEbu"
      },
      "execution_count": null,
      "outputs": []
    },
    {
      "cell_type": "code",
      "source": [
        "%cd"
      ],
      "metadata": {
        "colab": {
          "base_uri": "https://localhost:8080/"
        },
        "id": "pilebpy7vGME",
        "outputId": "5d00fb9d-182f-4b00-ecf8-19d0d68aff96"
      },
      "execution_count": null,
      "outputs": [
        {
          "output_type": "stream",
          "name": "stdout",
          "text": [
            "/root\n"
          ]
        }
      ]
    },
    {
      "cell_type": "code",
      "source": [
        "!ls"
      ],
      "metadata": {
        "id": "EbphEpqivLYu"
      },
      "execution_count": null,
      "outputs": []
    },
    {
      "cell_type": "code",
      "source": [
        "#CD into directory:\n",
        "%cd <folder name>\n",
        "#to see contents of folder\n",
        "!ls\n",
        "#pwd will print the working directory name\n",
        "!pwd"
      ],
      "metadata": {
        "id": "QbqxsVba-Rie"
      },
      "execution_count": null,
      "outputs": []
    },
    {
      "cell_type": "code",
      "source": [
        "#Connect to GDrive:\n",
        "\n",
        "#Mounting Google Drive\n",
        "from google.colab import drive\n",
        "drive.mount('/content/gdrive')"
      ],
      "metadata": {
        "id": "osKFzUSZ9uHX",
        "colab": {
          "base_uri": "https://localhost:8080/"
        },
        "outputId": "66b427a0-920f-448f-f344-3ef1a56715b2"
      },
      "execution_count": null,
      "outputs": [
        {
          "output_type": "stream",
          "name": "stdout",
          "text": [
            "Mounted at /content/gdrive\n"
          ]
        }
      ]
    },
    {
      "cell_type": "code",
      "source": [
        "#for download file in google drive (if the file is shared publicly)\n",
        "!gdown link"
      ],
      "metadata": {
        "id": "h4b3hVt_-3C-"
      },
      "execution_count": null,
      "outputs": []
    },
    {
      "cell_type": "code",
      "source": [
        "#-q for hide"
      ],
      "metadata": {
        "id": "EbdMOIop9_dh"
      },
      "execution_count": null,
      "outputs": []
    },
    {
      "cell_type": "markdown",
      "source": [],
      "metadata": {
        "id": "lAVKsvsyNw-P"
      }
    },
    {
      "cell_type": "markdown",
      "source": [
        "# Heading1\n",
        "## Heading2\n",
        "### Heading3\n",
        "#### Heading4\n",
        "##### Heading5\n",
        "###### Heading6"
      ],
      "metadata": {
        "id": "boPcD8TsJq31"
      }
    },
    {
      "cell_type": "markdown",
      "source": [
        "#google colab (part2) :"
      ],
      "metadata": {
        "id": "Dp3T6qQX4jCd"
      }
    },
    {
      "cell_type": "markdown",
      "source": [
        "\n",
        "\n",
        "\n",
        "```\n",
        "# This is formatted as code\n",
        "```\n",
        "\n",
        "\n",
        "\n",
        "\n",
        "**bold text**\n",
        "\n",
        "*italicized text*\n",
        "\n",
        "~didn't work~\n",
        "\n",
        "~~it's broken~~\n",
        "\n",
        "\n",
        "---\n",
        "\n",
        "\n",
        "ordered list:\n",
        "\n",
        "1.   List item\n",
        "2.   List item\n",
        "\n",
        "Unordered list:\n",
        "\n",
        "\n",
        "*   List item\n",
        "*   List item\n",
        "*  \n",
        "\n",
        "\n",
        "\n",
        "---\n",
        "link:\n",
        "\n",
        "[click here to read more](https://)\n",
        "\n",
        "\n",
        "---\n",
        "change color:\n",
        "\n",
        "<font color='green'>text</font>\n",
        "\n",
        "<font color='red'>text</font>\n",
        "\n",
        "<font color='pink'>text</font>\n",
        "\n",
        "<font color='orange'>text</font>\n",
        "\n",
        "\n",
        "---\n",
        "highlight:\n",
        "\n",
        "<mark>very important words</mark>\n",
        "\n",
        "\n",
        "\n",
        "\n",
        "---\n",
        "\n",
        "\n",
        "\n",
        "```python\n",
        "# This is formatted as code\n",
        "```\n",
        "\n",
        "\n",
        "```c\n",
        "# This is formatted as code\n",
        "```\n",
        "create tabe:\n",
        "\n",
        "|name|mark|mark2|\n",
        "|----|----|----|\n",
        "|ali|70|20|\n",
        "|sara|100|60|\n",
        "|Iman|87|70|\n",
        "\n"
      ],
      "metadata": {
        "id": "7L9o6_9GE80l"
      }
    },
    {
      "cell_type": "markdown",
      "source": [
        "insert image:\n",
        "\n",
        "![alt text](image.jpg)\n",
        "\n",
        "example:\n",
        "\n",
        "![ai pic](https://encrypted-tbn0.gstatic.com/images?q=tbn:ANd9GcQuPx9GVs4z2I06t4xqmWfp7zUbn3pOaDRzebYlR1KaSO_0McGvBivlhyqYzMzIKLuaW4I&usqp=CAU)\n"
      ],
      "metadata": {
        "id": "0e-iWHNR5XU0"
      }
    },
    {
      "cell_type": "markdown",
      "source": [
        "Symbols:\n",
        "\n",
        "$\\alpha$\n",
        "\n",
        "$\\phi$\n",
        "\n",
        "$\\gamma$\n",
        "\n",
        "$β$\n",
        "\n",
        "$\\pi$\n",
        "\n",
        "\n",
        "[more symbols](https://csrgxtu.github.io/2015/03/20/Writing-Mathematic-Fomulars-in-Markdown/)\n"
      ],
      "metadata": {
        "id": "tkGIJxwINfro"
      }
    },
    {
      "cell_type": "markdown",
      "source": [
        "#Check device"
      ],
      "metadata": {
        "id": "oqtXX5nJ6Igq"
      }
    },
    {
      "cell_type": "markdown",
      "source": [
        "مشخصات سخت افزاری که در اختیار داریم را میتوانیم مشاهده کنیم"
      ],
      "metadata": {
        "id": "EaXJCDVfrwGV"
      }
    },
    {
      "cell_type": "code",
      "source": [
        "!nvidia-smi"
      ],
      "metadata": {
        "id": "ZhCiEnDfD0uH"
      },
      "execution_count": null,
      "outputs": []
    },
    {
      "cell_type": "markdown",
      "source": [
        "#let's learn python:\n",
        "\n",
        "\n",
        "1.   Variables\n",
        "2.   List\n",
        "3.   Operation\n",
        "4.   Comparison Operators\n",
        "5.   string\n",
        "6.   dictionary\n",
        "7.   ...\n",
        "\n"
      ],
      "metadata": {
        "id": "ZnGiHrNqLD0g"
      }
    },
    {
      "cell_type": "markdown",
      "source": [
        "# 1.Variables"
      ],
      "metadata": {
        "id": "2N_NEaHaR_rK"
      }
    },
    {
      "cell_type": "code",
      "source": [
        "m = 'hi'\n",
        "print(m)"
      ],
      "metadata": {
        "colab": {
          "base_uri": "https://localhost:8080/"
        },
        "id": "yH5f2iRHQtG4",
        "outputId": "316dfa2d-edcb-4d3b-f1f0-9a0f38edb54c"
      },
      "execution_count": null,
      "outputs": [
        {
          "output_type": "stream",
          "name": "stdout",
          "text": [
            "hi\n"
          ]
        }
      ]
    },
    {
      "cell_type": "code",
      "source": [
        "#int\n",
        "a = 1\n",
        "print(a)"
      ],
      "metadata": {
        "colab": {
          "base_uri": "https://localhost:8080/"
        },
        "id": "_VRJbZ2_PbU8",
        "outputId": "b64a2719-ab2a-4105-a2a9-bf8d3827f357"
      },
      "execution_count": null,
      "outputs": [
        {
          "output_type": "stream",
          "name": "stdout",
          "text": [
            "1\n"
          ]
        }
      ]
    },
    {
      "cell_type": "code",
      "source": [
        "#float\n",
        "b = 1.2\n",
        "print(b)"
      ],
      "metadata": {
        "colab": {
          "base_uri": "https://localhost:8080/"
        },
        "id": "DD1LxE5cPcFd",
        "outputId": "6273d902-eba4-468f-8107-4aa6161eaf10"
      },
      "execution_count": null,
      "outputs": [
        {
          "output_type": "stream",
          "name": "stdout",
          "text": [
            "1.2\n"
          ]
        }
      ]
    },
    {
      "cell_type": "code",
      "source": [
        "#boolean\n",
        "c = False #F have to be capital  False\n",
        "print(c)\n"
      ],
      "metadata": {
        "colab": {
          "base_uri": "https://localhost:8080/"
        },
        "id": "tjw8pvfFgISq",
        "outputId": "460572fc-3295-4ca4-90cd-b1d37c8cfe08"
      },
      "execution_count": null,
      "outputs": [
        {
          "output_type": "stream",
          "name": "stdout",
          "text": [
            "False\n"
          ]
        }
      ]
    },
    {
      "cell_type": "code",
      "source": [
        "c = True #T have to be capital  False\n",
        "print(c)\n"
      ],
      "metadata": {
        "colab": {
          "base_uri": "https://localhost:8080/"
        },
        "id": "r2QrdqaEZuD8",
        "outputId": "7a046208-f3ac-4da0-98f1-c9c49a53c917"
      },
      "execution_count": null,
      "outputs": [
        {
          "output_type": "stream",
          "name": "stdout",
          "text": [
            "True\n"
          ]
        }
      ]
    },
    {
      "cell_type": "code",
      "source": [
        "#string\n",
        "d = 'hi'\n",
        "e = \"hi\"\n",
        "print(d)\n",
        "print(e)\n",
        "print(d,e,c)"
      ],
      "metadata": {
        "colab": {
          "base_uri": "https://localhost:8080/"
        },
        "id": "oVn2Fo43hCTb",
        "outputId": "97e19e92-007d-45e4-90f0-703492c3c225"
      },
      "execution_count": null,
      "outputs": [
        {
          "output_type": "stream",
          "name": "stdout",
          "text": [
            "hi\n",
            "hi\n",
            "hi hi True\n"
          ]
        }
      ]
    },
    {
      "cell_type": "code",
      "source": [
        "day, month, year = 9, 8, 2020\n",
        "print(day)\n",
        "print(day, month, year)\n",
        "print('day: ', day,' month: ', month,' year: ', year)"
      ],
      "metadata": {
        "colab": {
          "base_uri": "https://localhost:8080/"
        },
        "id": "yesZfTiSpkBP",
        "outputId": "d4e048b1-5dfa-4baa-a0f2-2db836ae5dd9"
      },
      "execution_count": null,
      "outputs": [
        {
          "output_type": "stream",
          "name": "stdout",
          "text": [
            "9\n",
            "9 8 2020\n",
            "day:  9  month:  8  year:  2020\n"
          ]
        }
      ]
    },
    {
      "cell_type": "code",
      "source": [
        "#warm up\n",
        "act1 = 'go'\n",
        "act2 = 'cry'\n",
        "print(act1, act2)"
      ],
      "metadata": {
        "colab": {
          "base_uri": "https://localhost:8080/"
        },
        "id": "qTPBJYxpp0NU",
        "outputId": "3bb267fd-990a-4283-e3b6-003293f4d2be"
      },
      "execution_count": null,
      "outputs": [
        {
          "output_type": "stream",
          "name": "stdout",
          "text": [
            "go cry\n"
          ]
        }
      ]
    },
    {
      "cell_type": "markdown",
      "source": [
        "A variable name cannot be any of the **Python keywords**.\n",
        "\n",
        "Python keywords:\n",
        "\n",
        "raise, not, import, for, else, continue, and, return, or, in, from, except, def, assert, try, pass, is, global, exec, del, break, while, print, lambda, if, finally, elif, class\n",
        "\n",
        "---\n",
        "Invalid variable names:\n",
        "\n",
        "2name/ 2_name\n",
        "\n",
        "!name/ @name/ %name/ $name\n",
        "\n",
        "name Name are diffrent"
      ],
      "metadata": {
        "id": "9btDfwjWn-JF"
      }
    },
    {
      "cell_type": "code",
      "source": [
        "for = 4"
      ],
      "metadata": {
        "colab": {
          "base_uri": "https://localhost:8080/",
          "height": 140
        },
        "id": "2kkkPgBhovhJ",
        "outputId": "d20bb66f-0716-4df1-bc18-7cc0a0d6a496"
      },
      "execution_count": null,
      "outputs": [
        {
          "output_type": "error",
          "ename": "SyntaxError",
          "evalue": "invalid syntax (<ipython-input-13-7b12443457ee>, line 1)",
          "traceback": [
            "\u001b[0;36m  File \u001b[0;32m\"<ipython-input-13-7b12443457ee>\"\u001b[0;36m, line \u001b[0;32m1\u001b[0m\n\u001b[0;31m    for = 4\u001b[0m\n\u001b[0m        ^\u001b[0m\n\u001b[0;31mSyntaxError\u001b[0m\u001b[0;31m:\u001b[0m invalid syntax\n"
          ]
        }
      ]
    },
    {
      "cell_type": "code",
      "source": [
        "2name = 1"
      ],
      "metadata": {
        "colab": {
          "base_uri": "https://localhost:8080/",
          "height": 140
        },
        "id": "7bZwyO1vntiw",
        "outputId": "883274fa-2c97-4f38-8686-e24eaa78f156"
      },
      "execution_count": null,
      "outputs": [
        {
          "output_type": "error",
          "ename": "SyntaxError",
          "evalue": "invalid decimal literal (<ipython-input-12-8487862a988e>, line 1)",
          "traceback": [
            "\u001b[0;36m  File \u001b[0;32m\"<ipython-input-12-8487862a988e>\"\u001b[0;36m, line \u001b[0;32m1\u001b[0m\n\u001b[0;31m    2name = 1\u001b[0m\n\u001b[0m    ^\u001b[0m\n\u001b[0;31mSyntaxError\u001b[0m\u001b[0;31m:\u001b[0m invalid decimal literal\n"
          ]
        }
      ]
    },
    {
      "cell_type": "code",
      "source": [
        "del act1"
      ],
      "metadata": {
        "id": "olpKwN8MqnL4"
      },
      "execution_count": null,
      "outputs": []
    },
    {
      "cell_type": "code",
      "source": [
        "a = 2\n",
        "del a"
      ],
      "metadata": {
        "id": "mE31tViXTpDf"
      },
      "execution_count": null,
      "outputs": []
    },
    {
      "cell_type": "code",
      "source": [
        "print(type(act2))"
      ],
      "metadata": {
        "colab": {
          "base_uri": "https://localhost:8080/"
        },
        "id": "kQCoqohUqvYp",
        "outputId": "134acdaa-2d80-4d72-90c6-16e81144eeb9"
      },
      "execution_count": null,
      "outputs": [
        {
          "output_type": "stream",
          "name": "stdout",
          "text": [
            "<class 'str'>\n"
          ]
        }
      ]
    },
    {
      "cell_type": "code",
      "source": [
        "type(day)\n"
      ],
      "metadata": {
        "colab": {
          "base_uri": "https://localhost:8080/"
        },
        "id": "wykq_ksjq6tU",
        "outputId": "497ae8f8-536d-4803-ecab-f7d208fa1d7d"
      },
      "execution_count": null,
      "outputs": [
        {
          "output_type": "execute_result",
          "data": {
            "text/plain": [
              "int"
            ]
          },
          "metadata": {},
          "execution_count": 12
        }
      ]
    },
    {
      "cell_type": "code",
      "source": [
        "name = 'marzieh' #name is string\n",
        "print(name)"
      ],
      "metadata": {
        "colab": {
          "base_uri": "https://localhost:8080/"
        },
        "id": "5xqeWiS3rAG0",
        "outputId": "1ffb27e1-1ab3-42eb-a07e-51df5dbeed98"
      },
      "execution_count": null,
      "outputs": [
        {
          "output_type": "stream",
          "name": "stdout",
          "text": [
            "marzieh\n"
          ]
        }
      ]
    },
    {
      "cell_type": "markdown",
      "source": [
        "# 2.List"
      ],
      "metadata": {
        "id": "fjDUeVwtrZn5"
      }
    },
    {
      "cell_type": "code",
      "source": [
        "[]"
      ],
      "metadata": {
        "id": "k0M5wX6YSbVN"
      },
      "execution_count": null,
      "outputs": []
    },
    {
      "cell_type": "code",
      "source": [
        "cities = ['Tehran', 'Isfahan', 'Kashan', 'Rasht', 'Tabriz']\n",
        "print(cities)"
      ],
      "metadata": {
        "id": "-hAK1aX_h-Kp",
        "colab": {
          "base_uri": "https://localhost:8080/"
        },
        "outputId": "4c10a617-175f-40ca-aa83-96a981cf1205"
      },
      "execution_count": null,
      "outputs": [
        {
          "output_type": "stream",
          "name": "stdout",
          "text": [
            "['Tehran', 'Isfahan', 'Kashan', 'Rasht', 'Tabriz']\n"
          ]
        }
      ]
    },
    {
      "cell_type": "code",
      "source": [
        "book = ['math', 'history']\n",
        "print(book)"
      ],
      "metadata": {
        "colab": {
          "base_uri": "https://localhost:8080/"
        },
        "id": "EeRxFHgzJ-kA",
        "outputId": "420aab16-ed8a-41de-f3d0-449900ce9a20"
      },
      "execution_count": null,
      "outputs": [
        {
          "output_type": "stream",
          "name": "stdout",
          "text": [
            "['math', 'history']\n"
          ]
        }
      ]
    },
    {
      "cell_type": "code",
      "source": [
        "movies = [1998, 'Extraction', 3.14, 'Fall']\n",
        "print(movies)"
      ],
      "metadata": {
        "id": "FznQDXOPjAyk",
        "colab": {
          "base_uri": "https://localhost:8080/"
        },
        "outputId": "a22d957d-39f9-4545-e043-010c373e7018"
      },
      "execution_count": null,
      "outputs": [
        {
          "output_type": "stream",
          "name": "stdout",
          "text": [
            "[1998, 'Extraction', 3.14, 'Fall']\n"
          ]
        }
      ]
    },
    {
      "cell_type": "code",
      "source": [
        "odd = [1, 3 , 5 , 7, 9]\n",
        "print(odd)"
      ],
      "metadata": {
        "id": "gvjXbfkCirCW",
        "colab": {
          "base_uri": "https://localhost:8080/"
        },
        "outputId": "cbd618f3-7b4f-4002-cebc-3533f69bb1e4"
      },
      "execution_count": null,
      "outputs": [
        {
          "output_type": "stream",
          "name": "stdout",
          "text": [
            "[1, 3, 5, 7, 9]\n"
          ]
        }
      ]
    },
    {
      "cell_type": "code",
      "source": [
        "#[]\n",
        "list1 = [1, 2, 3, 4]\n",
        "print(list1)"
      ],
      "metadata": {
        "id": "SWQFAWO2r84e",
        "colab": {
          "base_uri": "https://localhost:8080/"
        },
        "outputId": "e26f134c-43f5-4e55-ecfa-683c90d64a54"
      },
      "execution_count": null,
      "outputs": [
        {
          "output_type": "stream",
          "name": "stdout",
          "text": [
            "[1, 2, 3, 4]\n"
          ]
        }
      ]
    },
    {
      "cell_type": "code",
      "source": [
        "list2 = ['car', 'cat', 'dog']\n",
        "print(list2)"
      ],
      "metadata": {
        "id": "XbhZncdVxN0b",
        "colab": {
          "base_uri": "https://localhost:8080/"
        },
        "outputId": "fb47cc68-edb1-4687-9d4b-62441c7d8a38"
      },
      "execution_count": null,
      "outputs": [
        {
          "output_type": "stream",
          "name": "stdout",
          "text": [
            "['car', 'cat', 'dog']\n"
          ]
        }
      ]
    },
    {
      "cell_type": "code",
      "source": [
        "list3 = [1, 3.4, True, 'bus']\n",
        "print(list3)"
      ],
      "metadata": {
        "id": "sWCvqABAxjPg",
        "colab": {
          "base_uri": "https://localhost:8080/"
        },
        "outputId": "5ffeab03-ec19-40b0-84d9-28168b156ef0"
      },
      "execution_count": null,
      "outputs": [
        {
          "output_type": "stream",
          "name": "stdout",
          "text": [
            "[1, 3.4, True, 'bus']\n"
          ]
        }
      ]
    },
    {
      "cell_type": "code",
      "source": [
        "list4 = ['car', 'cat', 'dog',[1, 3.4, True, 'bus']]\n",
        "print(list4)"
      ],
      "metadata": {
        "id": "2q1NScvVxyHw",
        "colab": {
          "base_uri": "https://localhost:8080/"
        },
        "outputId": "033393f3-cd86-4682-f186-a573e4c688e2"
      },
      "execution_count": null,
      "outputs": [
        {
          "output_type": "stream",
          "name": "stdout",
          "text": [
            "['car', 'cat', 'dog', [1, 3.4, True, 'bus']]\n"
          ]
        }
      ]
    },
    {
      "cell_type": "code",
      "source": [
        "list5 = []\n",
        "list5 = list()\n",
        "print(list5)"
      ],
      "metadata": {
        "id": "V1A0M428yE0j",
        "colab": {
          "base_uri": "https://localhost:8080/"
        },
        "outputId": "84a6f19e-ce49-448d-c259-13c1ab87c522"
      },
      "execution_count": null,
      "outputs": [
        {
          "output_type": "stream",
          "name": "stdout",
          "text": [
            "[]\n"
          ]
        }
      ]
    },
    {
      "cell_type": "markdown",
      "source": [
        " **length**: len"
      ],
      "metadata": {
        "id": "guvxVGZ5ymlG"
      }
    },
    {
      "cell_type": "code",
      "source": [
        "len(list1)"
      ],
      "metadata": {
        "id": "M03bIfdeyf6l",
        "colab": {
          "base_uri": "https://localhost:8080/"
        },
        "outputId": "05bea085-67e1-4414-f015-ba2db65e7ed3"
      },
      "execution_count": null,
      "outputs": [
        {
          "output_type": "execute_result",
          "data": {
            "text/plain": [
              "4"
            ]
          },
          "metadata": {},
          "execution_count": 10
        }
      ]
    },
    {
      "cell_type": "code",
      "source": [
        "len(list4)"
      ],
      "metadata": {
        "id": "6KQ3yFSZytct",
        "colab": {
          "base_uri": "https://localhost:8080/"
        },
        "outputId": "cdb3c18d-44e6-417d-a2b4-5093798daf0c"
      },
      "execution_count": null,
      "outputs": [
        {
          "output_type": "execute_result",
          "data": {
            "text/plain": [
              "4"
            ]
          },
          "metadata": {},
          "execution_count": 12
        }
      ]
    },
    {
      "cell_type": "code",
      "source": [
        "list1.__len__()"
      ],
      "metadata": {
        "id": "ubDMHuhcyvF4",
        "colab": {
          "base_uri": "https://localhost:8080/"
        },
        "outputId": "13d8dc77-9d7c-408c-cf4b-521ddbd01fca"
      },
      "execution_count": null,
      "outputs": [
        {
          "output_type": "execute_result",
          "data": {
            "text/plain": [
              "4"
            ]
          },
          "metadata": {},
          "execution_count": 13
        }
      ]
    },
    {
      "cell_type": "markdown",
      "source": [
        "we can add or remove items in the list"
      ],
      "metadata": {
        "id": "Bnhf0DRvzDri"
      }
    },
    {
      "cell_type": "code",
      "source": [
        "list1.append(5)\n",
        "print(list1)"
      ],
      "metadata": {
        "id": "awvVplvXzCRp",
        "colab": {
          "base_uri": "https://localhost:8080/"
        },
        "outputId": "36c621b6-2f29-4a0a-c505-7a4c4a60c3d6"
      },
      "execution_count": null,
      "outputs": [
        {
          "output_type": "stream",
          "name": "stdout",
          "text": [
            "[1, 2, 3, 4, 5]\n"
          ]
        }
      ]
    },
    {
      "cell_type": "code",
      "source": [
        "list1.extend([6, 7, 8])\n",
        "print(list1)"
      ],
      "metadata": {
        "id": "tKxXzO5MzaWy",
        "colab": {
          "base_uri": "https://localhost:8080/"
        },
        "outputId": "1f62d053-1864-4861-8ec9-62d41020bfe2"
      },
      "execution_count": null,
      "outputs": [
        {
          "output_type": "stream",
          "name": "stdout",
          "text": [
            "[1, 2, 3, 4, 5, 6, 7, 8]\n"
          ]
        }
      ]
    },
    {
      "cell_type": "code",
      "source": [
        "list1.extend(list2)\n",
        "print(list1)"
      ],
      "metadata": {
        "id": "Q_8Rho-Z0Luh",
        "colab": {
          "base_uri": "https://localhost:8080/"
        },
        "outputId": "61112ffc-4848-48da-829b-2a91ede61156"
      },
      "execution_count": null,
      "outputs": [
        {
          "output_type": "stream",
          "name": "stdout",
          "text": [
            "[1, 2, 3, 4, 5, 6, 7, 8, 'car', 'cat', 'dog']\n"
          ]
        }
      ]
    },
    {
      "cell_type": "code",
      "source": [
        "list1.extend([10])\n",
        "print(list1)"
      ],
      "metadata": {
        "colab": {
          "base_uri": "https://localhost:8080/"
        },
        "id": "NvZLQN4OWoWE",
        "outputId": "7a032f65-7e84-4519-9e70-7aee5572bd14"
      },
      "execution_count": null,
      "outputs": [
        {
          "output_type": "stream",
          "name": "stdout",
          "text": [
            "[1, 2, 3, 4, 5, 6, 7, 8, 'car', 'cat', 'dog', 10]\n"
          ]
        }
      ]
    },
    {
      "cell_type": "code",
      "source": [
        "print(list1 + list2)\n",
        "list6 = list1 + list2\n",
        "print(list6)"
      ],
      "metadata": {
        "id": "oII8sDcN0Xyn",
        "colab": {
          "base_uri": "https://localhost:8080/"
        },
        "outputId": "fb199a45-e0d1-4b7a-e604-0f690284a186"
      },
      "execution_count": null,
      "outputs": [
        {
          "output_type": "stream",
          "name": "stdout",
          "text": [
            "[1, 2, 3, 4, 5, 6, 7, 8, 'car', 'cat', 'dog', 10, 'car', 'cat', 'dog']\n",
            "[1, 2, 3, 4, 5, 6, 7, 8, 'car', 'cat', 'dog', 10, 'car', 'cat', 'dog']\n"
          ]
        }
      ]
    },
    {
      "cell_type": "markdown",
      "source": [
        "index\n",
        "\n",
        "from left:0 /right:-1"
      ],
      "metadata": {
        "id": "SkqDOfIb6Krw"
      }
    },
    {
      "cell_type": "code",
      "source": [
        "list1[2]"
      ],
      "metadata": {
        "id": "IO93f_kH0vOU",
        "colab": {
          "base_uri": "https://localhost:8080/"
        },
        "outputId": "6652150c-f9b6-48fe-d058-db069184d793"
      },
      "execution_count": null,
      "outputs": [
        {
          "output_type": "execute_result",
          "data": {
            "text/plain": [
              "3"
            ]
          },
          "metadata": {},
          "execution_count": 21
        }
      ]
    },
    {
      "cell_type": "code",
      "source": [
        "list1[-2]"
      ],
      "metadata": {
        "id": "KxfXSqF603aq",
        "colab": {
          "base_uri": "https://localhost:8080/",
          "height": 35
        },
        "outputId": "6317c039-8723-4b29-c6b0-8781876b71f9"
      },
      "execution_count": null,
      "outputs": [
        {
          "output_type": "execute_result",
          "data": {
            "text/plain": [
              "'dog'"
            ],
            "application/vnd.google.colaboratory.intrinsic+json": {
              "type": "string"
            }
          },
          "metadata": {},
          "execution_count": 22
        }
      ]
    },
    {
      "cell_type": "code",
      "source": [
        "list1[0:3] #[)"
      ],
      "metadata": {
        "id": "34CzIgKx6j-o",
        "colab": {
          "base_uri": "https://localhost:8080/"
        },
        "outputId": "d17839fe-1c63-4d5f-edc0-e27d93caf7fe"
      },
      "execution_count": null,
      "outputs": [
        {
          "output_type": "execute_result",
          "data": {
            "text/plain": [
              "[1, 2, 3]"
            ]
          },
          "metadata": {},
          "execution_count": 41
        }
      ]
    },
    {
      "cell_type": "code",
      "source": [
        "list1[1:]"
      ],
      "metadata": {
        "id": "55RpB_N066yZ",
        "colab": {
          "base_uri": "https://localhost:8080/"
        },
        "outputId": "ae25f587-532d-4fda-9774-3dd6ecd1e72e"
      },
      "execution_count": null,
      "outputs": [
        {
          "output_type": "execute_result",
          "data": {
            "text/plain": [
              "[2, 3, 4, 5, 6, 7, 8, 'car', 'cat', 'dog', 10]"
            ]
          },
          "metadata": {},
          "execution_count": 24
        }
      ]
    },
    {
      "cell_type": "code",
      "source": [
        "list1[:3]"
      ],
      "metadata": {
        "id": "u1QFZLo75oQD",
        "colab": {
          "base_uri": "https://localhost:8080/"
        },
        "outputId": "02b598e1-bf1b-4bde-b166-bfedb97059a8"
      },
      "execution_count": null,
      "outputs": [
        {
          "output_type": "execute_result",
          "data": {
            "text/plain": [
              "[1, 2, 3]"
            ]
          },
          "metadata": {},
          "execution_count": 25
        }
      ]
    },
    {
      "cell_type": "markdown",
      "source": [
        "getting index"
      ],
      "metadata": {
        "id": "yq7fYifo71JD"
      }
    },
    {
      "cell_type": "code",
      "source": [
        "color=['black', 'pink', 'blue']"
      ],
      "metadata": {
        "id": "CzCOc2GvUb9t"
      },
      "execution_count": null,
      "outputs": []
    },
    {
      "cell_type": "code",
      "source": [
        "color.index('pink')"
      ],
      "metadata": {
        "colab": {
          "base_uri": "https://localhost:8080/"
        },
        "id": "JPlQ8u6IUpb0",
        "outputId": "06af4126-2bdb-4698-93d6-f48d732f60c4"
      },
      "execution_count": null,
      "outputs": [
        {
          "output_type": "execute_result",
          "data": {
            "text/plain": [
              "1"
            ]
          },
          "metadata": {},
          "execution_count": 11
        }
      ]
    },
    {
      "cell_type": "code",
      "source": [
        "list1.index('car')"
      ],
      "metadata": {
        "id": "5hy0lsr97wMu",
        "colab": {
          "base_uri": "https://localhost:8080/",
          "height": 141
        },
        "outputId": "8d7c1160-5039-4c59-9f6e-2158f8165252"
      },
      "execution_count": null,
      "outputs": [
        {
          "output_type": "error",
          "ename": "NameError",
          "evalue": "name 'list1' is not defined",
          "traceback": [
            "\u001b[0;31m---------------------------------------------------------------------------\u001b[0m",
            "\u001b[0;31mNameError\u001b[0m                                 Traceback (most recent call last)",
            "\u001b[0;32m<ipython-input-12-0b2d1f9ebeb7>\u001b[0m in \u001b[0;36m<cell line: 1>\u001b[0;34m()\u001b[0m\n\u001b[0;32m----> 1\u001b[0;31m \u001b[0mlist1\u001b[0m\u001b[0;34m.\u001b[0m\u001b[0mindex\u001b[0m\u001b[0;34m(\u001b[0m\u001b[0;34m'car'\u001b[0m\u001b[0;34m)\u001b[0m\u001b[0;34m\u001b[0m\u001b[0;34m\u001b[0m\u001b[0m\n\u001b[0m",
            "\u001b[0;31mNameError\u001b[0m: name 'list1' is not defined"
          ]
        }
      ]
    },
    {
      "cell_type": "code",
      "source": [
        "list7 = [1, 2, 2, 3, 3, 3, 4, 4, 4, 4, 5, 5 ,5 ,5, 5]"
      ],
      "metadata": {
        "id": "Vnqfi2f2-gpb"
      },
      "execution_count": null,
      "outputs": []
    },
    {
      "cell_type": "code",
      "source": [
        "list7.count(5)"
      ],
      "metadata": {
        "id": "g_94cVIB-4t2",
        "colab": {
          "base_uri": "https://localhost:8080/"
        },
        "outputId": "4b493c9a-2cef-4916-f70b-3f76228b4bd4"
      },
      "execution_count": null,
      "outputs": [
        {
          "output_type": "execute_result",
          "data": {
            "text/plain": [
              "5"
            ]
          },
          "metadata": {},
          "execution_count": 45
        }
      ]
    },
    {
      "cell_type": "code",
      "source": [
        "list7.sort(reverse=True)\n",
        "print(list7)"
      ],
      "metadata": {
        "id": "LlKqhtle-8em",
        "colab": {
          "base_uri": "https://localhost:8080/"
        },
        "outputId": "04896584-3af3-4c5c-dee8-77ed3369ccd5"
      },
      "execution_count": null,
      "outputs": [
        {
          "output_type": "stream",
          "name": "stdout",
          "text": [
            "[5, 5, 5, 5, 5, 4, 4, 4, 4, 3, 3, 3, 2, 2, 1]\n"
          ]
        }
      ]
    },
    {
      "cell_type": "code",
      "source": [
        "list7.sort(reverse=False)\n",
        "print(list7)"
      ],
      "metadata": {
        "id": "4Fujdf5f_Uj_",
        "colab": {
          "base_uri": "https://localhost:8080/"
        },
        "outputId": "2d5ceaac-d819-4c14-f30d-87c0440d3b27"
      },
      "execution_count": null,
      "outputs": [
        {
          "output_type": "stream",
          "name": "stdout",
          "text": [
            "[1, 2, 2, 3, 3, 3, 4, 4, 4, 4, 5, 5, 5, 5, 5]\n"
          ]
        }
      ]
    },
    {
      "cell_type": "code",
      "source": [
        "list8 = ['red', 'green', 'yellow']"
      ],
      "metadata": {
        "id": "RsIsSqVXAWaH"
      },
      "execution_count": null,
      "outputs": []
    },
    {
      "cell_type": "code",
      "source": [
        "list8.sort()\n",
        "print(list8)"
      ],
      "metadata": {
        "id": "uwsuOvA6Ahz9",
        "colab": {
          "base_uri": "https://localhost:8080/"
        },
        "outputId": "455a2e2f-6bd5-4273-bcd0-89fdd2d77d17"
      },
      "execution_count": null,
      "outputs": [
        {
          "output_type": "stream",
          "name": "stdout",
          "text": [
            "['green', 'red', 'yellow']\n"
          ]
        }
      ]
    },
    {
      "cell_type": "code",
      "source": [
        "list8.pop(2)"
      ],
      "metadata": {
        "id": "j1BFrw8pApoW",
        "colab": {
          "base_uri": "https://localhost:8080/",
          "height": 35
        },
        "outputId": "a0097f9f-78bb-4611-da10-22a1a5ceb816"
      },
      "execution_count": null,
      "outputs": [
        {
          "output_type": "execute_result",
          "data": {
            "text/plain": [
              "'yellow'"
            ],
            "application/vnd.google.colaboratory.intrinsic+json": {
              "type": "string"
            }
          },
          "metadata": {},
          "execution_count": 35
        }
      ]
    },
    {
      "cell_type": "code",
      "source": [
        "print(list8)"
      ],
      "metadata": {
        "id": "Ea1DtHeXAzWR",
        "colab": {
          "base_uri": "https://localhost:8080/"
        },
        "outputId": "4c6e68f9-c2c3-44f4-e8e7-f86501e163e0"
      },
      "execution_count": null,
      "outputs": [
        {
          "output_type": "stream",
          "name": "stdout",
          "text": [
            "['green', 'red']\n"
          ]
        }
      ]
    },
    {
      "cell_type": "code",
      "source": [
        "list8.clear()"
      ],
      "metadata": {
        "id": "_JZn2lcvBDvK"
      },
      "execution_count": null,
      "outputs": []
    },
    {
      "cell_type": "code",
      "source": [
        "print(list8)"
      ],
      "metadata": {
        "id": "ti8yQQYGBHaq",
        "colab": {
          "base_uri": "https://localhost:8080/"
        },
        "outputId": "2143861d-cc12-4324-c7f8-8fc853391a61"
      },
      "execution_count": null,
      "outputs": [
        {
          "output_type": "stream",
          "name": "stdout",
          "text": [
            "[]\n"
          ]
        }
      ]
    },
    {
      "cell_type": "code",
      "source": [
        "color = ['yelloow', 'red']\n",
        "print(dir(color))"
      ],
      "metadata": {
        "id": "4QSvaXwr4jMf",
        "colab": {
          "base_uri": "https://localhost:8080/"
        },
        "outputId": "28d825e2-4456-4f5f-a326-6910cc25d4ad"
      },
      "execution_count": null,
      "outputs": [
        {
          "output_type": "stream",
          "name": "stdout",
          "text": [
            "['__add__', '__class__', '__class_getitem__', '__contains__', '__delattr__', '__delitem__', '__dir__', '__doc__', '__eq__', '__format__', '__ge__', '__getattribute__', '__getitem__', '__gt__', '__hash__', '__iadd__', '__imul__', '__init__', '__init_subclass__', '__iter__', '__le__', '__len__', '__lt__', '__mul__', '__ne__', '__new__', '__reduce__', '__reduce_ex__', '__repr__', '__reversed__', '__rmul__', '__setattr__', '__setitem__', '__sizeof__', '__str__', '__subclasshook__', 'append', 'clear', 'copy', 'count', 'extend', 'index', 'insert', 'pop', 'remove', 'reverse', 'sort']\n"
          ]
        }
      ]
    },
    {
      "cell_type": "markdown",
      "source": [
        "#**warmup** list\n"
      ],
      "metadata": {
        "id": "vvV573z7IVll"
      }
    },
    {
      "cell_type": "markdown",
      "source": [
        "\n",
        "Print the **second** item in the name list.\n",
        "\n",
        "`name = [\"ali\", \"sara\", \"asal\", \"mahdi\"]`"
      ],
      "metadata": {
        "id": "VRM0kq_A9jPL"
      }
    },
    {
      "cell_type": "code",
      "source": [
        "name = [\"ali\", \"sara\", \"asal\"]\n",
        "\n",
        "print(name[1])"
      ],
      "metadata": {
        "colab": {
          "base_uri": "https://localhost:8080/"
        },
        "id": "L4WW9AqW8_I8",
        "outputId": "aa5f825f-defe-499c-b779-b4954ac3e870"
      },
      "execution_count": null,
      "outputs": [
        {
          "output_type": "stream",
          "name": "stdout",
          "text": [
            "sara\n"
          ]
        }
      ]
    },
    {
      "cell_type": "markdown",
      "source": [
        "**Change the value** from \"sara\" to \"samin\", in the name list.\n",
        "\n"
      ],
      "metadata": {
        "id": "mJ95Yq3O-lW1"
      }
    },
    {
      "cell_type": "code",
      "source": [
        "name[1]=\"samin\"\n",
        "print(name)"
      ],
      "metadata": {
        "colab": {
          "base_uri": "https://localhost:8080/"
        },
        "id": "uRwednrr-rTl",
        "outputId": "846e6531-0a89-4535-8b7b-035183b60036"
      },
      "execution_count": null,
      "outputs": [
        {
          "output_type": "stream",
          "name": "stdout",
          "text": [
            "['ali', 'samin', 'asal']\n"
          ]
        }
      ]
    },
    {
      "cell_type": "markdown",
      "source": [
        "Use the **append** method to add \"mahdi\" to the name list.\n",
        "\n"
      ],
      "metadata": {
        "id": "7gkaHliE-8Ue"
      }
    },
    {
      "cell_type": "code",
      "source": [
        "name.append(\"mahdi\")\n",
        "print(name)"
      ],
      "metadata": {
        "id": "XkV_2IDD_bFZ"
      },
      "execution_count": null,
      "outputs": []
    },
    {
      "cell_type": "markdown",
      "source": [
        "Use the **insert** method to add \"mahsa\" as the second item in the name list."
      ],
      "metadata": {
        "id": "jQvfTScH_off"
      }
    },
    {
      "cell_type": "code",
      "source": [
        "name.insert(1,\"mahsa\")\n",
        "print(name)"
      ],
      "metadata": {
        "id": "L0PZLula_n0Y"
      },
      "execution_count": null,
      "outputs": []
    },
    {
      "cell_type": "markdown",
      "source": [
        "Use the **remove** method to remove \"asal\" from the name list."
      ],
      "metadata": {
        "id": "wWxhINyjAFyN"
      }
    },
    {
      "cell_type": "code",
      "source": [
        "name.remove(\"asal\")"
      ],
      "metadata": {
        "id": "fe5fyopzASnH"
      },
      "execution_count": null,
      "outputs": []
    },
    {
      "cell_type": "markdown",
      "source": [
        "Use negative indexing to print the last item in the list."
      ],
      "metadata": {
        "id": "L-akg5yGAYqm"
      }
    },
    {
      "cell_type": "code",
      "source": [
        "print(name[-1])"
      ],
      "metadata": {
        "id": "KJwMKo7rAgbI"
      },
      "execution_count": null,
      "outputs": []
    },
    {
      "cell_type": "markdown",
      "source": [
        "Use a range of indexes to print the third, fourth, and fifth item in the list.\n",
        "name = [\"ali\", \"sara\", \"asal\", \"mahsa\", \"amin\", \"zahra\", \"mohammad\",]"
      ],
      "metadata": {
        "id": "CwRMF2laAnDw"
      }
    },
    {
      "cell_type": "code",
      "source": [
        "name = [\"ali\", \"sara\", \"asal\", \"mahsa\", \"amin\", \"zahra\", \"mohammad\",]\n",
        "print(name[2:5])"
      ],
      "metadata": {
        "colab": {
          "base_uri": "https://localhost:8080/"
        },
        "id": "TMEC_7dkAmdr",
        "outputId": "4ac612b4-3274-4d7c-89fe-1a2f1c192a8b"
      },
      "execution_count": null,
      "outputs": [
        {
          "output_type": "stream",
          "name": "stdout",
          "text": [
            "['asal', 'mahsa', 'amin']\n"
          ]
        }
      ]
    },
    {
      "cell_type": "markdown",
      "source": [
        "Use the correct syntax to print the number of items in the list.\n",
        "\n"
      ],
      "metadata": {
        "id": "KssD_ExvBkzQ"
      }
    },
    {
      "cell_type": "code",
      "source": [
        "print(len(name))"
      ],
      "metadata": {
        "colab": {
          "base_uri": "https://localhost:8080/"
        },
        "id": "O9ahLbsABUEV",
        "outputId": "e156ea22-6f12-4f38-99da-3170340a148b"
      },
      "execution_count": null,
      "outputs": [
        {
          "output_type": "stream",
          "name": "stdout",
          "text": [
            "7\n"
          ]
        }
      ]
    },
    {
      "cell_type": "markdown",
      "source": [
        "# 3.Operation"
      ],
      "metadata": {
        "id": "3AsAu98HBAdy"
      }
    },
    {
      "cell_type": "markdown",
      "source": [
        "1. `() ** ,`\n",
        "\n",
        "2. `* / %  //,`\n",
        "\n",
        "3. `+ -`\n",
        "\n",
        "\n",
        "\n"
      ],
      "metadata": {
        "id": "Shp_pYmuJVmo"
      }
    },
    {
      "cell_type": "code",
      "source": [
        "a = 2.5\n",
        "b = 5\n",
        "a + b\n",
        "print(a+b)\n",
        "c = a + b\n",
        "print(c)"
      ],
      "metadata": {
        "colab": {
          "base_uri": "https://localhost:8080/"
        },
        "id": "zex8GZKVefXR",
        "outputId": "762fb4fa-8da8-452a-e1ca-425e8b8a074a"
      },
      "execution_count": null,
      "outputs": [
        {
          "output_type": "stream",
          "name": "stdout",
          "text": [
            "7.5\n",
            "7.5\n"
          ]
        }
      ]
    },
    {
      "cell_type": "code",
      "source": [
        "1+9\n",
        "print(1+9)\n",
        "a = 2.5\n",
        "b = 5\n",
        "a + b\n",
        "print(a+b)\n",
        "c = a + b\n",
        "print(c)\n",
        "d = b - a\n",
        "print(d)\n",
        "e = a * b\n",
        "print(e)\n",
        "f = b / 2\n",
        "print(f)\n",
        "g = b // a\n",
        "print('g =',g)\n",
        "h = b % a\n",
        "print('h =',h)\n",
        "print(2 ** 7)\n",
        "i = a ** b\n",
        "print(i)\n"
      ],
      "metadata": {
        "id": "0ivGsjN0B3lL",
        "colab": {
          "base_uri": "https://localhost:8080/"
        },
        "outputId": "6ef9019f-b103-4a82-ca6e-0e09ff3e4cc6"
      },
      "execution_count": null,
      "outputs": [
        {
          "output_type": "stream",
          "name": "stdout",
          "text": [
            "10\n",
            "7.5\n",
            "7.5\n",
            "2.5\n",
            "12.5\n",
            "2.5\n",
            "g = 2.0\n",
            "h = 0.0\n",
            "128\n",
            "97.65625\n"
          ]
        }
      ]
    },
    {
      "cell_type": "markdown",
      "source": [
        "warmup (operation)\n",
        "\n",
        "num1 = 12, num2 = 8\n",
        "تمامی عملگرهایی که\n",
        " یاد گرفتید را روی این دو متغیر اعمال کنید"
      ],
      "metadata": {
        "id": "SQ8OiMCiIZot"
      }
    },
    {
      "cell_type": "markdown",
      "source": [
        " نتیجه عبارت sum += 5 و sum = sum + 5 یکی هستند"
      ],
      "metadata": {
        "id": "auDtQoCUKfHC"
      }
    },
    {
      "cell_type": "markdown",
      "source": [
        "+=\n",
        "\n",
        "-=\n",
        "\n",
        "عملگرهای تخصیصی که یاد گرفتید را برای دو متغیر num1 و num2 اعمال کنید. (مثلا از num1 مقدار num2 را کم کنید. یا در num1 مقدار num2 را ضرب کنید.\n",
        "\n",
        "\n",
        "```\n",
        "num1 = 23\n",
        "num2 = 9\n",
        "num1 **= num2\n",
        "print(num1)\n",
        "num1 += num2\n",
        "print(num1)\n",
        "num1 -= num2\n",
        "print(num1)\n",
        "num1 /= num2\n",
        "print(num1)\n",
        "num1 //= num2\n",
        "print(num1)\n",
        "num1 %= num2\n",
        "print(num1)```\n",
        "\n"
      ],
      "metadata": {
        "id": "hcW6dDveKjd7"
      }
    },
    {
      "cell_type": "code",
      "source": [
        "n = 7\n",
        "b = 2\n",
        "d = n/b\n",
        "print(d)"
      ],
      "metadata": {
        "colab": {
          "base_uri": "https://localhost:8080/"
        },
        "id": "GGjfHQezfbr2",
        "outputId": "9612a891-8127-4d6f-d933-e86b54f65242"
      },
      "execution_count": null,
      "outputs": [
        {
          "output_type": "stream",
          "name": "stdout",
          "text": [
            "3.5\n"
          ]
        }
      ]
    },
    {
      "cell_type": "markdown",
      "source": [
        "# 4.Python Comparison Operators\n"
      ],
      "metadata": {
        "id": "nUe0uFLiJITi"
      }
    },
    {
      "cell_type": "markdown",
      "source": [
        "با کمک پایتون مشخص کنید که عدد 25 زوج است یا خیر.\n",
        "\n",
        "\n",
        "\n",
        "```\n",
        "print(25%2 == 0)\n",
        "```\n",
        "\n"
      ],
      "metadata": {
        "id": "c7BHebmVNRvo"
      }
    },
    {
      "cell_type": "code",
      "source": [
        "print(25%2 == 0)\n"
      ],
      "metadata": {
        "colab": {
          "base_uri": "https://localhost:8080/"
        },
        "id": "xTa-DsEGf-x7",
        "outputId": "08f11988-34a2-46f4-b23b-d162f4932ecb"
      },
      "execution_count": null,
      "outputs": [
        {
          "output_type": "stream",
          "name": "stdout",
          "text": [
            "False\n"
          ]
        }
      ]
    },
    {
      "cell_type": "code",
      "source": [
        "print('a' == 'A')\n"
      ],
      "metadata": {
        "id": "tA3bL9DHNVPy",
        "colab": {
          "base_uri": "https://localhost:8080/"
        },
        "outputId": "090381ec-7d16-43ca-88df-ca0eba09d11f"
      },
      "execution_count": null,
      "outputs": [
        {
          "output_type": "stream",
          "name": "stdout",
          "text": [
            "False\n"
          ]
        }
      ]
    },
    {
      "cell_type": "code",
      "source": [
        "print(7 == 20)"
      ],
      "metadata": {
        "id": "lJko_tYlNx4K",
        "colab": {
          "base_uri": "https://localhost:8080/"
        },
        "outputId": "b77e1428-e5d8-4799-c0eb-0d781a7a75e9"
      },
      "execution_count": null,
      "outputs": [
        {
          "output_type": "stream",
          "name": "stdout",
          "text": [
            "False\n"
          ]
        }
      ]
    },
    {
      "cell_type": "code",
      "source": [
        "print(4 == 16/4)"
      ],
      "metadata": {
        "id": "EKLlNHniNydY",
        "colab": {
          "base_uri": "https://localhost:8080/"
        },
        "outputId": "34909a16-1608-4b91-c25f-751849195368"
      },
      "execution_count": null,
      "outputs": [
        {
          "output_type": "stream",
          "name": "stdout",
          "text": [
            "True\n"
          ]
        }
      ]
    },
    {
      "cell_type": "markdown",
      "source": [
        "He achieved all his dreams و\n",
        "He achievd all his dreams\n",
        "\n",
        "\n",
        "\n",
        "```\n",
        "txt1 = 'He achieved all his dreams'\n",
        "txt2 = 'He achievd all his dreams'\n",
        "print(txt1 == txt2)\n",
        "```\n",
        "\n"
      ],
      "metadata": {
        "id": "CkQlH3TtNgHW"
      }
    },
    {
      "cell_type": "code",
      "source": [
        "txt1 = 'He achieved all his dreams'\n",
        "txt2 = 'He achievd all his dreams'\n",
        "print(txt1 == txt2)"
      ],
      "metadata": {
        "colab": {
          "base_uri": "https://localhost:8080/"
        },
        "id": "YI23r9tmgT_V",
        "outputId": "5a0aa409-612e-4a55-a71c-7273621bebca"
      },
      "execution_count": null,
      "outputs": [
        {
          "output_type": "stream",
          "name": "stdout",
          "text": [
            "False\n"
          ]
        }
      ]
    },
    {
      "cell_type": "markdown",
      "source": [
        "دو لیست (1, 4/2, 6//2) و (1, 2, 3)\n",
        "\n",
        "\n",
        "```\n",
        "print([1, 4/2, 6//2] == [1, 2, 3])\n",
        "\n",
        "```\n",
        "\n"
      ],
      "metadata": {
        "id": "6RY9vE4SN85h"
      }
    },
    {
      "cell_type": "code",
      "source": [
        "print([1, 4/2, 6//2] == [1, 2, 3])\n"
      ],
      "metadata": {
        "colab": {
          "base_uri": "https://localhost:8080/"
        },
        "id": "HGmhDaAbgZ3k",
        "outputId": "1f2f9001-cba5-4981-c8d8-06beeb54188c"
      },
      "execution_count": null,
      "outputs": [
        {
          "output_type": "stream",
          "name": "stdout",
          "text": [
            "True\n"
          ]
        }
      ]
    },
    {
      "cell_type": "code",
      "source": [
        "a = 3\n",
        "a = 3.0"
      ],
      "metadata": {
        "id": "F4Rzrm4DgqmC"
      },
      "execution_count": null,
      "outputs": []
    },
    {
      "cell_type": "code",
      "source": [
        "print(4 != 16/4)\n",
        "print('a' != 'A')"
      ],
      "metadata": {
        "id": "8Dvt46f-NfL_",
        "colab": {
          "base_uri": "https://localhost:8080/"
        },
        "outputId": "733b967d-2632-4f7c-c776-51acb0676129"
      },
      "execution_count": null,
      "outputs": [
        {
          "output_type": "stream",
          "name": "stdout",
          "text": [
            "False\n",
            "True\n"
          ]
        }
      ]
    },
    {
      "cell_type": "code",
      "source": [
        "print(13*36 > 10*53)\n",
        "print('f' > 'g')"
      ],
      "metadata": {
        "id": "AfRKk-2VOVxV",
        "colab": {
          "base_uri": "https://localhost:8080/"
        },
        "outputId": "735da275-b2db-457d-a777-913ab3ac9f4d"
      },
      "execution_count": null,
      "outputs": [
        {
          "output_type": "stream",
          "name": "stdout",
          "text": [
            "False\n",
            "False\n"
          ]
        }
      ]
    },
    {
      "cell_type": "markdown",
      "source": [
        "<="
      ],
      "metadata": {
        "id": "i2Ixe8nKOoUB"
      }
    },
    {
      "cell_type": "markdown",
      "source": [
        "# 5.string"
      ],
      "metadata": {
        "id": "qjlwspWnPktd"
      }
    },
    {
      "cell_type": "markdown",
      "source": [
        "\n",
        "warmup\n",
        "```\n",
        "quote1 = 'Live as if you were to die tomorrow.'\n",
        "quote2 = 'Learn as if you were to live forever.'\n",
        "```\n",
        "\n"
      ],
      "metadata": {
        "id": "PCBI4CxZSxRY"
      }
    },
    {
      "cell_type": "code",
      "source": [
        "quote1 = 'Live as if you were to die tomorrow.'\n",
        "quote2 = 'Learn as if you were to live forever.'"
      ],
      "metadata": {
        "id": "Ouu5CltwUfeI"
      },
      "execution_count": null,
      "outputs": []
    },
    {
      "cell_type": "markdown",
      "source": [
        " Space\n",
        "\n",
        "  یک کاراکتر به حساب می‌آید\n"
      ],
      "metadata": {
        "id": "Azx9kFCCUFY3"
      }
    },
    {
      "cell_type": "code",
      "source": [
        "txt = 'I love Python!'\n",
        "print(txt[0])\n",
        "print(txt[1])\n",
        "print(txt[7:])"
      ],
      "metadata": {
        "colab": {
          "base_uri": "https://localhost:8080/"
        },
        "id": "NzbEvE9yP2RW",
        "outputId": "d74100e3-8649-4c2f-bbdb-d38e06505e97"
      },
      "execution_count": null,
      "outputs": [
        {
          "output_type": "stream",
          "name": "stdout",
          "text": [
            "I\n",
            " \n",
            "Python!\n"
          ]
        }
      ]
    },
    {
      "cell_type": "code",
      "source": [
        "txt[2]"
      ],
      "metadata": {
        "colab": {
          "base_uri": "https://localhost:8080/",
          "height": 35
        },
        "id": "Gl3cOTaNE-xi",
        "outputId": "af4f5c39-e1b0-45f0-89bb-dca97c966977"
      },
      "execution_count": null,
      "outputs": [
        {
          "output_type": "execute_result",
          "data": {
            "text/plain": [
              "'l'"
            ],
            "application/vnd.google.colaboratory.intrinsic+json": {
              "type": "string"
            }
          },
          "metadata": {},
          "execution_count": 11
        }
      ]
    },
    {
      "cell_type": "markdown",
      "source": [
        "طول رشته"
      ],
      "metadata": {
        "id": "rgkNiwTFUwPC"
      }
    },
    {
      "cell_type": "code",
      "source": [
        "print(len(txt))"
      ],
      "metadata": {
        "colab": {
          "base_uri": "https://localhost:8080/"
        },
        "id": "uwzGtjVYUviC",
        "outputId": "8c3c3aab-1531-4eef-bb73-6f64d8b02517"
      },
      "execution_count": null,
      "outputs": [
        {
          "output_type": "stream",
          "name": "stdout",
          "text": [
            "14\n"
          ]
        }
      ]
    },
    {
      "cell_type": "code",
      "source": [
        "print(txt.__len__())"
      ],
      "metadata": {
        "colab": {
          "base_uri": "https://localhost:8080/"
        },
        "id": "p4UK5AF9Uzw7",
        "outputId": "8a82c9f4-8f04-4118-9f69-e3312f0c8c93"
      },
      "execution_count": null,
      "outputs": [
        {
          "output_type": "stream",
          "name": "stdout",
          "text": [
            "14\n"
          ]
        }
      ]
    },
    {
      "cell_type": "code",
      "source": [
        "txt.__len__()"
      ],
      "metadata": {
        "colab": {
          "base_uri": "https://localhost:8080/"
        },
        "id": "lPZLa4j8BwyZ",
        "outputId": "787c3505-659d-4614-f6df-399981f721dd"
      },
      "execution_count": null,
      "outputs": [
        {
          "output_type": "execute_result",
          "data": {
            "text/plain": [
              "14"
            ]
          },
          "metadata": {},
          "execution_count": 3
        }
      ]
    },
    {
      "cell_type": "code",
      "source": [
        "txt ='  i am student  '"
      ],
      "metadata": {
        "id": "e06LWx-kW7Vx"
      },
      "execution_count": null,
      "outputs": []
    },
    {
      "cell_type": "code",
      "source": [
        "txt.strip()"
      ],
      "metadata": {
        "colab": {
          "base_uri": "https://localhost:8080/",
          "height": 35
        },
        "id": "2hjRsiRQG4P2",
        "outputId": "f22a1b6a-74f7-464b-90cb-dfb98f602b04"
      },
      "execution_count": null,
      "outputs": [
        {
          "output_type": "execute_result",
          "data": {
            "text/plain": [
              "'i am student'"
            ],
            "application/vnd.google.colaboratory.intrinsic+json": {
              "type": "string"
            }
          },
          "metadata": {},
          "execution_count": 48
        }
      ]
    },
    {
      "cell_type": "code",
      "source": [
        "a = \"Hello, World!\"\n",
        "print(a.upper())"
      ],
      "metadata": {
        "colab": {
          "base_uri": "https://localhost:8080/"
        },
        "id": "Y7eV9KTlHUkt",
        "outputId": "f215fd82-c5ca-4a86-b7f3-1250ec549ae3"
      },
      "execution_count": null,
      "outputs": [
        {
          "output_type": "stream",
          "name": "stdout",
          "text": [
            "HELLO, WORLD!\n"
          ]
        }
      ]
    },
    {
      "cell_type": "code",
      "source": [
        "a = \"Hello, World!\"\n",
        "print(a.lower())"
      ],
      "metadata": {
        "colab": {
          "base_uri": "https://localhost:8080/"
        },
        "id": "BmE_hVNaHZQM",
        "outputId": "29c722a2-b8db-4dd2-e867-f18b301823cd"
      },
      "execution_count": null,
      "outputs": [
        {
          "output_type": "stream",
          "name": "stdout",
          "text": [
            "hello, world!\n"
          ]
        }
      ]
    },
    {
      "cell_type": "markdown",
      "source": [
        "جدا کردن یک کلمه از یک عبارت تمرین"
      ],
      "metadata": {
        "id": "ixbgJ36MUTFo"
      }
    },
    {
      "cell_type": "code",
      "source": [
        "print(quote1[15: 19])"
      ],
      "metadata": {
        "colab": {
          "base_uri": "https://localhost:8080/"
        },
        "id": "bqy48HACUMW7",
        "outputId": "1450b482-bd5a-453a-a7be-592e3a62829a"
      },
      "execution_count": null,
      "outputs": [
        {
          "output_type": "stream",
          "name": "stdout",
          "text": [
            "were\n"
          ]
        }
      ]
    },
    {
      "cell_type": "markdown",
      "source": [
        "طول رشته quote1\n",
        "را محاسبه کنید"
      ],
      "metadata": {
        "id": "FYxJXLpGU6P3"
      }
    },
    {
      "cell_type": "code",
      "source": [
        "print(quote1.__len__())"
      ],
      "metadata": {
        "colab": {
          "base_uri": "https://localhost:8080/"
        },
        "id": "4JFHOobYVBKa",
        "outputId": "dde98fa9-8c35-4470-f206-b8d0e97e2746"
      },
      "execution_count": null,
      "outputs": [
        {
          "output_type": "stream",
          "name": "stdout",
          "text": [
            "36\n"
          ]
        }
      ]
    },
    {
      "cell_type": "code",
      "source": [
        "txt.count(\"o\")"
      ],
      "metadata": {
        "colab": {
          "base_uri": "https://localhost:8080/"
        },
        "id": "sS5kNVj8CAfF",
        "outputId": "44b6abd7-d634-4056-ca9e-9598ff8adad7"
      },
      "execution_count": null,
      "outputs": [
        {
          "output_type": "execute_result",
          "data": {
            "text/plain": [
              "2"
            ]
          },
          "metadata": {},
          "execution_count": 5
        }
      ]
    },
    {
      "cell_type": "markdown",
      "source": [
        "چسباندن رشته‌ها با +"
      ],
      "metadata": {
        "id": "4JLIYOjNVPyA"
      }
    },
    {
      "cell_type": "code",
      "source": [
        "txt1 = 'Python'\n",
        "txt2 = 'Course'\n",
        "print(txt1 + txt2)\n",
        "print(txt1 + ' ' + txt2)"
      ],
      "metadata": {
        "colab": {
          "base_uri": "https://localhost:8080/"
        },
        "id": "lfcutTedVD0b",
        "outputId": "a9b09295-e80c-4ce9-af63-84edf12d6750"
      },
      "execution_count": null,
      "outputs": [
        {
          "output_type": "stream",
          "name": "stdout",
          "text": [
            "PythonCourse\n",
            "Python Course\n"
          ]
        }
      ]
    },
    {
      "cell_type": "markdown",
      "source": [
        "چسباندن رشته ها با دستور join"
      ],
      "metadata": {
        "id": "Lo_Klsb7VR0B"
      }
    },
    {
      "cell_type": "code",
      "source": [
        "s = ' '\n",
        "print(s.join([txt1, txt2]))\n",
        "\n",
        "s = ','\n",
        "print(s.join([txt1, txt2]))\n",
        "\n"
      ],
      "metadata": {
        "colab": {
          "base_uri": "https://localhost:8080/"
        },
        "id": "mDH4V1fsVUey",
        "outputId": "e0ced9d3-22c3-4065-a585-6081cb6039fb"
      },
      "execution_count": null,
      "outputs": [
        {
          "output_type": "stream",
          "name": "stdout",
          "text": [
            "Python Course\n",
            "Python,Course\n"
          ]
        }
      ]
    },
    {
      "cell_type": "markdown",
      "source": [
        "warmup"
      ],
      "metadata": {
        "id": "cB2hEdsdVwBw"
      }
    },
    {
      "cell_type": "code",
      "source": [
        "print(quote1 + ' ' + quote2)\n",
        "s = ' '\n",
        "print(s.join([quote1, quote2]))"
      ],
      "metadata": {
        "colab": {
          "base_uri": "https://localhost:8080/"
        },
        "id": "9zGTvH8pVpyD",
        "outputId": "4eb72157-1ea8-4153-8ba7-c6882f607701"
      },
      "execution_count": null,
      "outputs": [
        {
          "output_type": "stream",
          "name": "stdout",
          "text": [
            "Live as if you were to die tomorrow. Learn as if you were to live forever.\n",
            "Live as if you were to die tomorrow. Learn as if you were to live forever.\n"
          ]
        }
      ]
    },
    {
      "cell_type": "code",
      "source": [
        "print(txt.find('Python'))"
      ],
      "metadata": {
        "colab": {
          "base_uri": "https://localhost:8080/"
        },
        "id": "_JGaIlQlV6UQ",
        "outputId": "cbabddf9-d74c-4fde-ffcb-3f1f2dd52555"
      },
      "execution_count": null,
      "outputs": [
        {
          "output_type": "stream",
          "name": "stdout",
          "text": [
            "7\n"
          ]
        }
      ]
    },
    {
      "cell_type": "markdown",
      "source": [
        "warmup\n",
        "\n",
        "اندیس عبارت live را در متغیر quote2 پیدا کنید."
      ],
      "metadata": {
        "id": "xdlo_L04WJNM"
      }
    },
    {
      "cell_type": "code",
      "source": [
        "print(quote2.find('live'))"
      ],
      "metadata": {
        "colab": {
          "base_uri": "https://localhost:8080/"
        },
        "id": "J6EwXEsJWI4E",
        "outputId": "8dc7aea0-2f13-4664-a488-490a8e3507a0"
      },
      "execution_count": null,
      "outputs": [
        {
          "output_type": "stream",
          "name": "stdout",
          "text": [
            "24\n"
          ]
        }
      ]
    },
    {
      "cell_type": "code",
      "source": [
        "age = 26\n",
        "txt = \"My name is Ali, I am \" + age\n",
        "print(txt)"
      ],
      "metadata": {
        "colab": {
          "base_uri": "https://localhost:8080/"
        },
        "id": "wm1fcj1oH-lm",
        "outputId": "7cdf5db4-3048-4430-d04a-016a6d17ac21"
      },
      "execution_count": null,
      "outputs": [
        {
          "output_type": "stream",
          "name": "stdout",
          "text": [
            "My name is Ali, I am 26\n"
          ]
        }
      ]
    },
    {
      "cell_type": "code",
      "source": [
        "age = 26\n",
        "txt = \"My name is Ali{},and I am  \"\n",
        "print(txt.format(age))"
      ],
      "metadata": {
        "colab": {
          "base_uri": "https://localhost:8080/"
        },
        "id": "mCk-DpfiH_kc",
        "outputId": "709765f1-393f-4e53-a6a7-6594a88126ff"
      },
      "execution_count": null,
      "outputs": [
        {
          "output_type": "stream",
          "name": "stdout",
          "text": [
            "My name is Ali26,and I am  \n"
          ]
        }
      ]
    },
    {
      "cell_type": "code",
      "source": [
        "age = 26\n",
        "txt = \"My name is Ali,and I am {} \"\n",
        "print(txt.format(age))"
      ],
      "metadata": {
        "colab": {
          "base_uri": "https://localhost:8080/"
        },
        "id": "XRJYv6MuYuZs",
        "outputId": "96356694-5a4c-43eb-fb0d-0b1cbbb864a2"
      },
      "execution_count": null,
      "outputs": [
        {
          "output_type": "stream",
          "name": "stdout",
          "text": [
            "My name is Ali26,and I am  \n"
          ]
        }
      ]
    },
    {
      "cell_type": "markdown",
      "source": [
        "replace"
      ],
      "metadata": {
        "id": "jKsqRDaOWyhY"
      }
    },
    {
      "cell_type": "code",
      "source": [
        "new_txt = txt.replace('I', 'You')\n",
        "print(new_txt)"
      ],
      "metadata": {
        "colab": {
          "base_uri": "https://localhost:8080/"
        },
        "id": "jxJv0U7FWOYo",
        "outputId": "59a12cd8-c00f-41a2-ea53-da9b146a8a28"
      },
      "execution_count": null,
      "outputs": [
        {
          "output_type": "stream",
          "name": "stdout",
          "text": [
            "You love Python!\n"
          ]
        }
      ]
    },
    {
      "cell_type": "markdown",
      "source": [
        "عبارت die در quote1 را با Live جایگزین کنید!"
      ],
      "metadata": {
        "id": "F74vssEaW-K8"
      }
    },
    {
      "cell_type": "code",
      "source": [
        "print(quote1.replace('die', 'live'))"
      ],
      "metadata": {
        "colab": {
          "base_uri": "https://localhost:8080/"
        },
        "id": "jz0sKgN3W9xF",
        "outputId": "e324dff9-7011-4b5b-fab2-d1413dfb19e8"
      },
      "execution_count": null,
      "outputs": [
        {
          "output_type": "stream",
          "name": "stdout",
          "text": [
            "Live as if you were to live tomorrow.\n"
          ]
        }
      ]
    },
    {
      "cell_type": "code",
      "source": [
        "#split\n",
        "print(txt.split(' '))"
      ],
      "metadata": {
        "colab": {
          "base_uri": "https://localhost:8080/"
        },
        "id": "GuTfR532XFz8",
        "outputId": "771ef2f4-d36e-40cf-d661-d1196a12efd4"
      },
      "execution_count": null,
      "outputs": [
        {
          "output_type": "stream",
          "name": "stdout",
          "text": [
            "['I', 'love', 'Python!']\n"
          ]
        }
      ]
    },
    {
      "cell_type": "code",
      "source": [
        "print(txt.split('o'))"
      ],
      "metadata": {
        "colab": {
          "base_uri": "https://localhost:8080/"
        },
        "id": "qhrihseWXI3e",
        "outputId": "e1f4fdfe-51e8-48a9-fa72-7fff801b1aa5"
      },
      "execution_count": null,
      "outputs": [
        {
          "output_type": "stream",
          "name": "stdout",
          "text": [
            "['I l', 've Pyth', 'n!']\n"
          ]
        }
      ]
    },
    {
      "cell_type": "markdown",
      "source": [
        "کلمات quote1 را جدا کنید."
      ],
      "metadata": {
        "id": "-kucum7zXTiA"
      }
    },
    {
      "cell_type": "code",
      "source": [
        "print(quote1.split(' '))"
      ],
      "metadata": {
        "colab": {
          "base_uri": "https://localhost:8080/"
        },
        "id": "_9b0-J2BXSk5",
        "outputId": "aa2fbe9b-5f4e-420a-f7f5-7282c570f978"
      },
      "execution_count": null,
      "outputs": [
        {
          "output_type": "stream",
          "name": "stdout",
          "text": [
            "['Live', 'as', 'if', 'you', 'were', 'to', 'die', 'tomorrow.']\n"
          ]
        }
      ]
    },
    {
      "cell_type": "markdown",
      "source": [
        "# 6.dictionary"
      ],
      "metadata": {
        "id": "cgRj5ofyXbCn"
      }
    },
    {
      "cell_type": "markdown",
      "source": [
        "Python Collections (Arrays)\n",
        "\n",
        "There are four collection **data types** in the Python programming language:\n",
        "\n",
        "**List** is a collection which is ordered and changeable. Allows duplicate members.\n",
        "\n",
        "**Tuple** is a collection which is ordered and unchangeable. Allows duplicate members.\n",
        "\n",
        "**Set** is a collection which is unordered, unchangeable*, and unindexed. No duplicate members.\n",
        "\n",
        "**Dictionary** is a collection which is ordered** and changeable. No duplicate members."
      ],
      "metadata": {
        "id": "r_b3aySy79k-"
      }
    },
    {
      "cell_type": "markdown",
      "source": [
        "unorderd\n",
        "\n",
        "key:value\n",
        "\n",
        "{ }\n",
        "\n",
        "<img src='https://howsam.org/wp-content/uploads/2020/10/dictionary.png' >\n",
        "\n",
        "Duplicates Not Allowed\n",
        "\n",
        "```\n",
        "thisdict = dict(name = \"John\", age = 36, country = \"Norway\")\n",
        "print(thisdict)\n",
        "```\n",
        "\n",
        "\n",
        "\n"
      ],
      "metadata": {
        "id": "6f4J1CtcmZFF"
      }
    },
    {
      "cell_type": "code",
      "source": [
        "countries = {\n",
        "    'Iran': 'Tehran',\n",
        "    'Canada': 'Ottawa',\n",
        "    'China': 'Beijing'\n",
        "}\n",
        "print(countries)"
      ],
      "metadata": {
        "colab": {
          "base_uri": "https://localhost:8080/"
        },
        "id": "RhwCFFl7XYIM",
        "outputId": "74b45e29-2310-4aec-ad4c-5ce8f4a71923"
      },
      "execution_count": null,
      "outputs": [
        {
          "output_type": "stream",
          "name": "stdout",
          "text": [
            "{'Iran': 'Tehran', 'Canada': 'Ottawa', 'China': 'Beijing'}\n"
          ]
        }
      ]
    },
    {
      "cell_type": "code",
      "source": [
        "grades = {\n",
        "    'ali': [83, 91, 67, 83.34],\n",
        "    'Tom': [89, 59, 64, 70.67],\n",
        "    'Sara': [53, 90, 61, 68]\n",
        "}\n",
        "print(grades)"
      ],
      "metadata": {
        "colab": {
          "base_uri": "https://localhost:8080/"
        },
        "id": "0F4wZKWMnuZI",
        "outputId": "8fdf1430-52a4-4343-ea46-a661882e6365"
      },
      "execution_count": null,
      "outputs": [
        {
          "output_type": "stream",
          "name": "stdout",
          "text": [
            "{'ali': [83, 91, 67, 83.34], 'Tom': [89, 59, 64, 70.67], 'Sara': [53, 90, 61, 68]}\n"
          ]
        }
      ]
    },
    {
      "cell_type": "markdown",
      "source": [
        "`dict_name[key] = value`\n",
        "\n",
        "\n",
        "\n"
      ],
      "metadata": {
        "id": "d8mNXdz6oTSs"
      }
    },
    {
      "cell_type": "code",
      "source": [
        "grades['mina']=[60,70,90,90]"
      ],
      "metadata": {
        "id": "wySP1iEnei_X"
      },
      "execution_count": null,
      "outputs": []
    },
    {
      "cell_type": "code",
      "source": [
        "print(grades)"
      ],
      "metadata": {
        "colab": {
          "base_uri": "https://localhost:8080/"
        },
        "id": "6e3c3uoHexAr",
        "outputId": "78f0533b-144b-4455-fec7-345300df62d1"
      },
      "execution_count": null,
      "outputs": [
        {
          "output_type": "stream",
          "name": "stdout",
          "text": [
            "{'ali': [83, 91, 67, 83.34], 'Tom': [89, 59, 64, 70.67], 'Sara': [53, 90, 61, 68], 'mina': [60, 70, 90, 90]}\n"
          ]
        }
      ]
    },
    {
      "cell_type": "code",
      "source": [
        "countries['India'] = 'Delhi'\n",
        "print(countries)"
      ],
      "metadata": {
        "colab": {
          "base_uri": "https://localhost:8080/"
        },
        "id": "zQq2kFijoC17",
        "outputId": "e99430f8-9443-4eee-eaba-4fb77b38c46b"
      },
      "execution_count": null,
      "outputs": [
        {
          "output_type": "stream",
          "name": "stdout",
          "text": [
            "{'Iran': 'Tehran', 'Canada': 'Ottawa', 'China': 'Beijing', 'India': 'Delhi'}\n"
          ]
        }
      ]
    },
    {
      "cell_type": "code",
      "source": [
        "sara_grades = grades['Sara']\n",
        "print(sara_grades)"
      ],
      "metadata": {
        "colab": {
          "base_uri": "https://localhost:8080/"
        },
        "id": "dps8nM6EoZxv",
        "outputId": "0a3b0647-0d2b-4e85-f7ab-ce31e1045c6b"
      },
      "execution_count": null,
      "outputs": [
        {
          "output_type": "stream",
          "name": "stdout",
          "text": [
            "[53, 90, 61, 68]\n"
          ]
        }
      ]
    },
    {
      "cell_type": "code",
      "source": [
        "grades['jack']"
      ],
      "metadata": {
        "id": "uUOSNrgroi4e",
        "colab": {
          "base_uri": "https://localhost:8080/",
          "height": 141
        },
        "outputId": "d68263af-1916-4ebc-f038-b56d9423301a"
      },
      "execution_count": null,
      "outputs": [
        {
          "output_type": "error",
          "ename": "KeyError",
          "evalue": "'jack'",
          "traceback": [
            "\u001b[0;31m---------------------------------------------------------------------------\u001b[0m",
            "\u001b[0;31mKeyError\u001b[0m                                  Traceback (most recent call last)",
            "\u001b[0;32m<ipython-input-33-91d251c2f5cf>\u001b[0m in \u001b[0;36m<cell line: 1>\u001b[0;34m()\u001b[0m\n\u001b[0;32m----> 1\u001b[0;31m \u001b[0mgrades\u001b[0m\u001b[0;34m[\u001b[0m\u001b[0;34m'jack'\u001b[0m\u001b[0;34m]\u001b[0m\u001b[0;34m\u001b[0m\u001b[0;34m\u001b[0m\u001b[0m\n\u001b[0m",
            "\u001b[0;31mKeyError\u001b[0m: 'jack'"
          ]
        }
      ]
    },
    {
      "cell_type": "code",
      "source": [
        "grades['Sara'] = [83, 90, 61, 78]\n",
        "print(grades)"
      ],
      "metadata": {
        "colab": {
          "base_uri": "https://localhost:8080/"
        },
        "id": "KLL9cQ-Go-au",
        "outputId": "9dffec94-418d-4556-f336-4683a4740a79"
      },
      "execution_count": null,
      "outputs": [
        {
          "output_type": "stream",
          "name": "stdout",
          "text": [
            "{'Kate': [83, 91, 67, 83.34], 'Tom': [89, 59, 64, 70.67], 'Sara': [83, 90, 61, 78]}\n"
          ]
        }
      ]
    },
    {
      "cell_type": "code",
      "source": [
        "print('Jack' in grades)"
      ],
      "metadata": {
        "colab": {
          "base_uri": "https://localhost:8080/"
        },
        "id": "yh_icgRcpDPJ",
        "outputId": "076926be-ebd8-46fd-d9fa-8cf8fc8fb67c"
      },
      "execution_count": null,
      "outputs": [
        {
          "output_type": "stream",
          "name": "stdout",
          "text": [
            "False\n"
          ]
        }
      ]
    },
    {
      "cell_type": "code",
      "source": [
        "print(grades)"
      ],
      "metadata": {
        "colab": {
          "base_uri": "https://localhost:8080/"
        },
        "id": "L9UwGBkBfbb1",
        "outputId": "cf5f2f2e-4500-459e-f3cc-de39dd2a06f3"
      },
      "execution_count": null,
      "outputs": [
        {
          "output_type": "stream",
          "name": "stdout",
          "text": [
            "{'ali': [83, 91, 67, 83.34], 'Tom': [89, 59, 64, 70.67], 'Sara': [53, 90, 61, 68], 'mina': [60, 70, 90, 90]}\n"
          ]
        }
      ]
    },
    {
      "cell_type": "code",
      "source": [
        "print('Sara' in grades)"
      ],
      "metadata": {
        "colab": {
          "base_uri": "https://localhost:8080/"
        },
        "id": "YizR5w3hXUDe",
        "outputId": "3db1e5b7-dc00-4a51-8b51-f9b61ca6fbd7"
      },
      "execution_count": null,
      "outputs": [
        {
          "output_type": "stream",
          "name": "stdout",
          "text": [
            "True\n"
          ]
        }
      ]
    },
    {
      "cell_type": "code",
      "source": [
        "grades_keys = grades.keys()\n",
        "print(grades_keys)"
      ],
      "metadata": {
        "colab": {
          "base_uri": "https://localhost:8080/"
        },
        "id": "ylkbSsgBpKeO",
        "outputId": "72dd8c77-f26a-4a60-dc1f-f314ada26042"
      },
      "execution_count": null,
      "outputs": [
        {
          "output_type": "stream",
          "name": "stdout",
          "text": [
            "dict_keys(['Kate', 'Tom', 'Sara'])\n"
          ]
        }
      ]
    },
    {
      "cell_type": "code",
      "source": [
        "print(type(grades_keys))"
      ],
      "metadata": {
        "colab": {
          "base_uri": "https://localhost:8080/"
        },
        "id": "jzMCoaqhpNqs",
        "outputId": "d7950f62-896d-4222-9e30-cc44429e7793"
      },
      "execution_count": null,
      "outputs": [
        {
          "output_type": "stream",
          "name": "stdout",
          "text": [
            "<class 'dict_keys'>\n"
          ]
        }
      ]
    },
    {
      "cell_type": "code",
      "source": [
        "list_keys = list(grades_keys)\n",
        "print(type(list_keys))\n",
        "print(list_keys)"
      ],
      "metadata": {
        "colab": {
          "base_uri": "https://localhost:8080/"
        },
        "id": "9vShbWyKpRUq",
        "outputId": "714446ed-279b-4350-8ae2-99664727efc3"
      },
      "execution_count": null,
      "outputs": [
        {
          "output_type": "stream",
          "name": "stdout",
          "text": [
            "<class 'list'>\n",
            "['Kate', 'Tom', 'Sara']\n"
          ]
        }
      ]
    },
    {
      "cell_type": "code",
      "source": [
        "print(list_keys )"
      ],
      "metadata": {
        "colab": {
          "base_uri": "https://localhost:8080/"
        },
        "id": "s6SZ_QDuQADD",
        "outputId": "57168f1f-029f-4394-db7e-79737c6107d9"
      },
      "execution_count": null,
      "outputs": [
        {
          "output_type": "stream",
          "name": "stdout",
          "text": [
            "['Kate', 'Tom', 'Sara']\n"
          ]
        }
      ]
    },
    {
      "cell_type": "code",
      "source": [
        "grades_values = grades.values()\n",
        "print(grades_values)"
      ],
      "metadata": {
        "colab": {
          "base_uri": "https://localhost:8080/"
        },
        "id": "SfEkx6GSpV6w",
        "outputId": "45567d58-f84d-431a-b1c9-5df08e85a70b"
      },
      "execution_count": null,
      "outputs": [
        {
          "output_type": "stream",
          "name": "stdout",
          "text": [
            "dict_values([[83, 91, 67, 83.34], [89, 59, 64, 70.67], [83, 90, 61, 78]])\n"
          ]
        }
      ]
    },
    {
      "cell_type": "code",
      "source": [
        "list_values = list(grades_values)\n",
        "print(list_values)"
      ],
      "metadata": {
        "colab": {
          "base_uri": "https://localhost:8080/"
        },
        "id": "jDfX6Q62paig",
        "outputId": "be9349f7-7403-4858-b946-726f2c855220"
      },
      "execution_count": null,
      "outputs": [
        {
          "output_type": "stream",
          "name": "stdout",
          "text": [
            "[[83, 91, 67, 83.34], [89, 59, 64, 70.67], [83, 90, 61, 78]]\n"
          ]
        }
      ]
    },
    {
      "cell_type": "code",
      "source": [
        "grades.pop('Sara')\n",
        "print(grades)"
      ],
      "metadata": {
        "colab": {
          "base_uri": "https://localhost:8080/"
        },
        "id": "OLNhq1m9pco6",
        "outputId": "74fd287e-7645-448a-de1d-2755e479950e"
      },
      "execution_count": null,
      "outputs": [
        {
          "output_type": "stream",
          "name": "stdout",
          "text": [
            "{'Kate': [83, 91, 67, 83.34], 'Tom': [89, 59, 64, 70.67]}\n"
          ]
        }
      ]
    },
    {
      "cell_type": "code",
      "source": [
        "grades.clear()\n",
        "print(grades)"
      ],
      "metadata": {
        "colab": {
          "base_uri": "https://localhost:8080/"
        },
        "id": "eWwM0qi6plLe",
        "outputId": "66b63cf9-f876-490f-a460-0cdfdeeb054e"
      },
      "execution_count": null,
      "outputs": [
        {
          "output_type": "stream",
          "name": "stdout",
          "text": [
            "{}\n"
          ]
        }
      ]
    },
    {
      "cell_type": "markdown",
      "source": [
        "Use the get method to print the value of the \"model\" key of the car dictionary.\n",
        "\n"
      ],
      "metadata": {
        "id": "HvaIFY7z8xJ6"
      }
    },
    {
      "cell_type": "code",
      "source": [
        "car =\t{\n",
        "  \"brand\": \"Ford\",\n",
        "  \"model\": \"Mustang\",\n",
        "  \"year\": 1964\n",
        "}\n",
        "print(car)"
      ],
      "metadata": {
        "colab": {
          "base_uri": "https://localhost:8080/"
        },
        "id": "kuCL9iWP8bIN",
        "outputId": "c6e4052b-a492-47dd-c849-012c23d62ed5"
      },
      "execution_count": null,
      "outputs": [
        {
          "output_type": "stream",
          "name": "stdout",
          "text": [
            "{'brand': 'Ford', 'model': 'Mustang', 'year': 1964}\n"
          ]
        }
      ]
    },
    {
      "cell_type": "code",
      "source": [
        "print(car[\"brand\"])\n",
        "print(car[\"model\"])"
      ],
      "metadata": {
        "colab": {
          "base_uri": "https://localhost:8080/"
        },
        "id": "nwT_z7GWQbpZ",
        "outputId": "0e36b79e-a066-4d57-cf6b-cfe812989e40"
      },
      "execution_count": null,
      "outputs": [
        {
          "output_type": "stream",
          "name": "stdout",
          "text": [
            "Ford\n",
            "Mustang\n"
          ]
        }
      ]
    },
    {
      "cell_type": "code",
      "source": [
        "car.get(\"model\")"
      ],
      "metadata": {
        "colab": {
          "base_uri": "https://localhost:8080/",
          "height": 35
        },
        "id": "H9HwYe1eQ0-Y",
        "outputId": "b2b28519-4ae6-4d3c-ab4a-22432cfee156"
      },
      "execution_count": null,
      "outputs": [
        {
          "output_type": "execute_result",
          "data": {
            "text/plain": [
              "'Mustang'"
            ],
            "application/vnd.google.colaboratory.intrinsic+json": {
              "type": "string"
            }
          },
          "metadata": {},
          "execution_count": 16
        }
      ]
    },
    {
      "cell_type": "code",
      "source": [
        "#Dictionary Length\n",
        "print(len(car))\n"
      ],
      "metadata": {
        "colab": {
          "base_uri": "https://localhost:8080/"
        },
        "id": "3oIsOKq_Q6Pf",
        "outputId": "5e46a6c1-54b6-48a2-cac8-14e9e62e08f5"
      },
      "execution_count": null,
      "outputs": [
        {
          "output_type": "stream",
          "name": "stdout",
          "text": [
            "3\n"
          ]
        }
      ]
    },
    {
      "cell_type": "markdown",
      "source": [
        "The values in dictionary items can be of any data type:\n",
        "\n",
        "String, int, boolean, and list data types:"
      ],
      "metadata": {
        "id": "Lrpsq6svRLeH"
      }
    },
    {
      "cell_type": "code",
      "source": [
        "thisdict = {\n",
        "  \"brand\": \"Ford\",\n",
        "  \"electric\": False,\n",
        "  \"year\": 1964,\n",
        "  \"colors\": [\"red\", \"white\", \"blue\"]\n",
        "}"
      ],
      "metadata": {
        "id": "_e2k-Z2mRIj2"
      },
      "execution_count": null,
      "outputs": []
    },
    {
      "cell_type": "code",
      "source": [
        "x = thisdict.get(\"model\")\n"
      ],
      "metadata": {
        "id": "ndYLIElSSHBK"
      },
      "execution_count": null,
      "outputs": []
    },
    {
      "cell_type": "code",
      "source": [
        "x = thisdict.keys()\n",
        "print(x)"
      ],
      "metadata": {
        "colab": {
          "base_uri": "https://localhost:8080/"
        },
        "id": "Q_aYoXpJSWXv",
        "outputId": "fa4e1c19-fe2c-4e86-eb6b-6ef8b5faac21"
      },
      "execution_count": null,
      "outputs": [
        {
          "output_type": "stream",
          "name": "stdout",
          "text": [
            "dict_keys(['brand', 'electric', 'year', 'colors'])\n"
          ]
        }
      ]
    },
    {
      "cell_type": "code",
      "source": [
        "print(type(thisdict))"
      ],
      "metadata": {
        "colab": {
          "base_uri": "https://localhost:8080/"
        },
        "id": "yFadUvw9RTA8",
        "outputId": "699f2c6c-06a2-4aa4-fdcb-3b95b7e3ef01"
      },
      "execution_count": null,
      "outputs": [
        {
          "output_type": "stream",
          "name": "stdout",
          "text": [
            "<class 'dict'>\n"
          ]
        }
      ]
    },
    {
      "cell_type": "code",
      "source": [
        "car = {\n",
        "\"brand\": \"Ford\",\n",
        "\"model\": \"Mustang\",\n",
        "\"year\": 1964\n",
        "}\n",
        "\n",
        "x = car.keys()\n",
        "\n",
        "print(x) #before the change\n",
        "\n",
        "car[\"color\"] = \"white\"\n",
        "\n",
        "print(x) #after the change"
      ],
      "metadata": {
        "colab": {
          "base_uri": "https://localhost:8080/"
        },
        "id": "9jaCzWZSSqnP",
        "outputId": "6c21b272-016e-470e-94f5-d4387bc2d7a7"
      },
      "execution_count": null,
      "outputs": [
        {
          "output_type": "stream",
          "name": "stdout",
          "text": [
            "dict_keys(['brand', 'model', 'year'])\n",
            "dict_keys(['brand', 'model', 'year', 'color'])\n"
          ]
        }
      ]
    },
    {
      "cell_type": "code",
      "source": [
        "#The dict() Constructor\n",
        "person = dict(name = \"John\", age = 36, country = \"Norway\")\n",
        "print(person)"
      ],
      "metadata": {
        "colab": {
          "base_uri": "https://localhost:8080/"
        },
        "id": "qgV9BcjYRab1",
        "outputId": "a15a5b13-c6f4-4c6d-a834-c6e60bd82c71"
      },
      "execution_count": null,
      "outputs": [
        {
          "output_type": "stream",
          "name": "stdout",
          "text": [
            "{'name': 'John', 'age': 36, 'country': 'Norway'}\n"
          ]
        }
      ]
    },
    {
      "cell_type": "code",
      "source": [
        "thisdict = {\n",
        "  \"brand\": \"Ford\",\n",
        "  \"model\": \"Mustang\",\n",
        "  \"year\": 1964\n",
        "}\n",
        "thisdict[\"year\"] = 2018"
      ],
      "metadata": {
        "id": "rHrbIdlyS3yb"
      },
      "execution_count": null,
      "outputs": []
    },
    {
      "cell_type": "code",
      "source": [
        "print(thisdict)"
      ],
      "metadata": {
        "colab": {
          "base_uri": "https://localhost:8080/"
        },
        "id": "eZd55LHaP9pC",
        "outputId": "d3307205-c63f-4f14-8785-71937736104b"
      },
      "execution_count": null,
      "outputs": [
        {
          "output_type": "stream",
          "name": "stdout",
          "text": [
            "{'brand': 'Ford', 'model': 'Mustang', 'year': 2018}\n"
          ]
        }
      ]
    },
    {
      "cell_type": "code",
      "source": [
        "thisdict = {\n",
        "  \"brand\": \"Ford\",\n",
        "  \"model\": \"Mustang\",\n",
        "  \"year\": 1964\n",
        "}\n",
        "thisdict.update({\"year\": 2020})"
      ],
      "metadata": {
        "id": "M_DthcY5TI45"
      },
      "execution_count": null,
      "outputs": []
    },
    {
      "cell_type": "markdown",
      "source": [
        "The del keyword removes the item with the specified key name:"
      ],
      "metadata": {
        "id": "nQcie5guTX9D"
      }
    },
    {
      "cell_type": "code",
      "source": [
        "thisdict = {\n",
        "  \"brand\": \"Ford\",\n",
        "  \"model\": \"Mustang\",\n",
        "  \"year\": 1964\n",
        "}\n",
        "del thisdict[\"model\"]\n",
        "print(thisdict)"
      ],
      "metadata": {
        "id": "VQlhoUKvTJ9d"
      },
      "execution_count": null,
      "outputs": []
    },
    {
      "cell_type": "markdown",
      "source": [
        "The del keyword can also delete the dictionary completely:"
      ],
      "metadata": {
        "id": "XzzHYKOPTfsG"
      }
    },
    {
      "cell_type": "code",
      "source": [
        "thisdict = {\n",
        "  \"brand\": \"Ford\",\n",
        "  \"model\": \"Mustang\",\n",
        "  \"year\": 1964\n",
        "}\n",
        "del thisdict\n",
        "print(thisdict) #this will cause an error because \"thisdict\" no longer exists."
      ],
      "metadata": {
        "id": "0QQincErTeVd"
      },
      "execution_count": null,
      "outputs": []
    },
    {
      "cell_type": "markdown",
      "source": [
        "#7.Tuples"
      ],
      "metadata": {
        "id": "XaVbQHHABYv6"
      }
    },
    {
      "cell_type": "markdown",
      "source": [
        "**Tuple** is a collection which is **ordered** and **unchangeable**. **Allows duplicate members**."
      ],
      "metadata": {
        "id": "Er96f38yBYv7"
      }
    },
    {
      "cell_type": "code",
      "source": [
        "# @title\n"
      ],
      "metadata": {
        "id": "aQzu2K2CBYv7"
      },
      "execution_count": null,
      "outputs": []
    },
    {
      "cell_type": "markdown",
      "source": [
        "#8.Sets"
      ],
      "metadata": {
        "id": "uqOTzTtRBYv8"
      }
    },
    {
      "cell_type": "code",
      "source": [
        "# @title\n"
      ],
      "metadata": {
        "cellView": "form",
        "id": "XwuWL-AfBYv8"
      },
      "execution_count": null,
      "outputs": []
    },
    {
      "cell_type": "markdown",
      "source": [],
      "metadata": {
        "id": "sbWc34UyLqm5"
      }
    },
    {
      "cell_type": "markdown",
      "source": [
        "#9.conditional"
      ],
      "metadata": {
        "id": "Yt9qbAyR1qPE"
      }
    },
    {
      "cell_type": "markdown",
      "source": [
        "##If"
      ],
      "metadata": {
        "id": "36cdk4gFmSka"
      }
    },
    {
      "cell_type": "markdown",
      "source": [
        "![](https://teachen.info/cspp/_images/ifsyntax.svg)"
      ],
      "metadata": {
        "id": "f9eAMQ2hA0yv"
      }
    },
    {
      "cell_type": "markdown",
      "source": [
        "\n",
        "\n",
        "\n",
        "\n",
        "```\n",
        "if condition:\n",
        "    body of if\n",
        "```\n",
        "indentation\n"
      ],
      "metadata": {
        "id": "XmMk3Dfvx5i5"
      }
    },
    {
      "cell_type": "code",
      "source": [
        "condition = []\n",
        "if condition:\n",
        "  print(\"that is true\")"
      ],
      "metadata": {
        "colab": {
          "base_uri": "https://localhost:8080/"
        },
        "id": "rkD6F6R9-Cqn",
        "outputId": "415ec824-014b-41b4-b8df-028505070202"
      },
      "execution_count": null,
      "outputs": [
        {
          "output_type": "stream",
          "name": "stdout",
          "text": [
            "that is true\n"
          ]
        }
      ]
    },
    {
      "cell_type": "markdown",
      "source": [
        "Python Comparison Operators:\n",
        "\n",
        "\n",
        "\n",
        "```\n",
        "==\tEqual\n",
        "\n",
        "!=\tNot equal\n",
        "\n",
        ">\tGreater than\n",
        "\n",
        "<\tLess than\n",
        "\n",
        ">=\tGreater than or equal to\n",
        "\n",
        "<=\tLess than or equal\n",
        "\n",
        "is\n",
        "\n",
        "```\n",
        "\n"
      ],
      "metadata": {
        "id": "8dYzHcPQEMS0"
      }
    },
    {
      "cell_type": "code",
      "source": [
        "w = 312\n",
        "d = 312\n",
        "if w is d:\n",
        "  print(\"d and w are equal\")"
      ],
      "metadata": {
        "id": "NMI2ek28ctxS"
      },
      "execution_count": null,
      "outputs": []
    },
    {
      "cell_type": "code",
      "source": [
        "print(\"it's cat\")"
      ],
      "metadata": {
        "colab": {
          "base_uri": "https://localhost:8080/"
        },
        "id": "hSzvryNadi2m",
        "outputId": "bd834ed6-efb0-43b9-a05f-e96d5c722846"
      },
      "execution_count": null,
      "outputs": [
        {
          "output_type": "stream",
          "name": "stdout",
          "text": [
            "it's cat\n"
          ]
        }
      ]
    },
    {
      "cell_type": "markdown",
      "source": [
        "is num even?"
      ],
      "metadata": {
        "id": "C-xVzZWAOJ9Q"
      }
    },
    {
      "cell_type": "code",
      "source": [
        "num = 8\n",
        "if num % 2 == 0:\n",
        "    print('num is even')"
      ],
      "metadata": {
        "colab": {
          "base_uri": "https://localhost:8080/"
        },
        "id": "DsEi6n1VmVow",
        "outputId": "023030f5-ecb0-4166-bdf0-bc755ccaec81"
      },
      "execution_count": null,
      "outputs": [
        {
          "output_type": "stream",
          "name": "stdout",
          "text": [
            "num is even\n"
          ]
        }
      ]
    },
    {
      "cell_type": "code",
      "source": [
        "num = 3\n",
        "if num % 2 == 0:\n",
        "    print('num is even')\n"
      ],
      "metadata": {
        "id": "MDlfEKnGr7eG"
      },
      "execution_count": null,
      "outputs": []
    },
    {
      "cell_type": "code",
      "source": [
        "if num % 2 != 0:\n",
        "    print('num is odd')"
      ],
      "metadata": {
        "colab": {
          "base_uri": "https://localhost:8080/"
        },
        "id": "miKRdMbxznbm",
        "outputId": "4a6fdf17-486b-433e-8674-c677a60ed8c1"
      },
      "execution_count": null,
      "outputs": [
        {
          "output_type": "stream",
          "name": "stdout",
          "text": [
            "num is odd\n"
          ]
        }
      ]
    },
    {
      "cell_type": "markdown",
      "source": [
        "if else"
      ],
      "metadata": {
        "id": "v6voI3yHz3WA"
      }
    },
    {
      "cell_type": "markdown",
      "source": [
        "![](https://www.boardinfinity.com/blog/content/images/2022/12/Your-paragraph-text--77--1.jpg)"
      ],
      "metadata": {
        "id": "t2kswXUoAoal"
      }
    },
    {
      "cell_type": "code",
      "source": [],
      "metadata": {
        "id": "jJBTX09leDHB"
      },
      "execution_count": null,
      "outputs": []
    },
    {
      "cell_type": "code",
      "source": [
        "num = 5\n",
        "if num % 2 == 0:\n",
        "    print('num is even')\n",
        "else:\n",
        "    print('num is odd')"
      ],
      "metadata": {
        "colab": {
          "base_uri": "https://localhost:8080/"
        },
        "id": "aN2UCRgDsTE_",
        "outputId": "6ba08174-8ffe-40ce-d0bc-ee7becfc5691"
      },
      "execution_count": null,
      "outputs": [
        {
          "output_type": "stream",
          "name": "stdout",
          "text": [
            "num is odd\n"
          ]
        }
      ]
    },
    {
      "cell_type": "code",
      "source": [
        "a = 6\n",
        "b = 3\n",
        "\n",
        "if a > b:\n",
        "    print('a is greater than b')\n",
        "else:\n",
        "    print('a is less than b')"
      ],
      "metadata": {
        "colab": {
          "base_uri": "https://localhost:8080/"
        },
        "id": "DN4qJNkeszzF",
        "outputId": "e5f2b6e7-8f5e-4bb6-9b22-703973ada0dd"
      },
      "execution_count": null,
      "outputs": [
        {
          "output_type": "stream",
          "name": "stdout",
          "text": [
            "a is greater than b\n"
          ]
        }
      ]
    },
    {
      "cell_type": "code",
      "source": [
        "a = 3\n",
        "b = 3\n",
        "\n",
        "if a > b:\n",
        "    print('a is greater than b')\n",
        "else:\n",
        "    print('a is less than b')"
      ],
      "metadata": {
        "colab": {
          "base_uri": "https://localhost:8080/"
        },
        "id": "q48JWVyHtGwF",
        "outputId": "28854fa9-a9aa-46aa-a4bd-b5fd6eb67aa9"
      },
      "execution_count": null,
      "outputs": [
        {
          "output_type": "stream",
          "name": "stdout",
          "text": [
            "a is less than b\n"
          ]
        }
      ]
    },
    {
      "cell_type": "code",
      "source": [
        "a = 3\n",
        "b = 3\n",
        "\n",
        "if a > b:\n",
        "    print('a is greater than b')\n",
        "elif a < b:\n",
        "    print('a is less than b')\n",
        "else:\n",
        "    print('a is equal to b')"
      ],
      "metadata": {
        "colab": {
          "base_uri": "https://localhost:8080/"
        },
        "id": "G2xAEqlLtWx7",
        "outputId": "a43e42d7-4b4c-45ef-9ad8-a79092a8a9b1"
      },
      "execution_count": null,
      "outputs": [
        {
          "output_type": "stream",
          "name": "stdout",
          "text": [
            "a is equal to b\n"
          ]
        }
      ]
    },
    {
      "cell_type": "code",
      "source": [
        "name = 'ali'\n",
        "age = 27\n",
        "\n",
        "if name == 'ali' or age == 25:\n",
        "  print(\"he's a teacher\")"
      ],
      "metadata": {
        "colab": {
          "base_uri": "https://localhost:8080/"
        },
        "id": "nlJSdoJDDFau",
        "outputId": "91cecba2-09c4-49a4-e55b-650215dbb97f"
      },
      "execution_count": null,
      "outputs": [
        {
          "output_type": "stream",
          "name": "stdout",
          "text": [
            "he's a teacher\n"
          ]
        }
      ]
    },
    {
      "cell_type": "code",
      "source": [
        "greeting = 'hello, word!'\n",
        "for char in greeting:\n",
        "  print(char)"
      ],
      "metadata": {
        "colab": {
          "base_uri": "https://localhost:8080/"
        },
        "id": "_XdTFO01Dx1e",
        "outputId": "1e2b7648-ef4a-4613-dabd-7fdd9d95735d"
      },
      "execution_count": null,
      "outputs": [
        {
          "output_type": "stream",
          "name": "stdout",
          "text": [
            "h\n",
            "e\n",
            "l\n",
            "l\n",
            "o\n",
            ",\n",
            " \n",
            "w\n",
            "o\n",
            "r\n",
            "d\n",
            "!\n"
          ]
        }
      ]
    },
    {
      "cell_type": "code",
      "source": [
        "name = 'marzieh'\n",
        "for char in name:\n",
        "  print(char)"
      ],
      "metadata": {
        "id": "PdEbV8_YfOI8"
      },
      "execution_count": null,
      "outputs": []
    },
    {
      "cell_type": "markdown",
      "source": [
        "## range()\n",
        "\n",
        "\n",
        "```\n",
        "for i in range(start, stop, step):\n",
        "  # your code here\n",
        "  ```\n",
        "\n"
      ],
      "metadata": {
        "id": "l4lX3CytNFVc"
      }
    },
    {
      "cell_type": "markdown",
      "source": [
        "![](https://blog.enterprisedna.co/wp-content/uploads/2023/05/458c44f5-d333-43c7-90f8-8dfe59d6b697.png)\n"
      ],
      "metadata": {
        "id": "sM1s2twONR9d"
      }
    },
    {
      "cell_type": "code",
      "source": [],
      "metadata": {
        "id": "lEwnegPkNGq0"
      },
      "execution_count": null,
      "outputs": []
    },
    {
      "cell_type": "markdown",
      "source": [
        "# 10.Loops"
      ],
      "metadata": {
        "id": "D7iRSJ29CC8X"
      }
    },
    {
      "cell_type": "markdown",
      "source": [
        "## for"
      ],
      "metadata": {
        "id": "rqTIGnB7z6vA"
      }
    },
    {
      "cell_type": "code",
      "source": [
        "my_list = [1, 2, 3, 4, 5]\n",
        "for num in my_list:\n",
        "    print(num)"
      ],
      "metadata": {
        "colab": {
          "base_uri": "https://localhost:8080/"
        },
        "id": "05VvsoARtlEl",
        "outputId": "7fb2d547-5247-4bd5-cb51-c2368b98d894"
      },
      "execution_count": null,
      "outputs": [
        {
          "output_type": "stream",
          "name": "stdout",
          "text": [
            "1\n",
            "2\n",
            "3\n",
            "4\n",
            "5\n"
          ]
        }
      ]
    },
    {
      "cell_type": "code",
      "source": [
        "fruits = ['apple', 'banana', 'cherry']\n",
        "for fruit in fruits:\n",
        "    print(fruit)"
      ],
      "metadata": {
        "colab": {
          "base_uri": "https://localhost:8080/"
        },
        "id": "IhsvXVHbyOri",
        "outputId": "20b958be-7766-4c07-c57b-c4409ecb8826"
      },
      "execution_count": null,
      "outputs": [
        {
          "output_type": "stream",
          "name": "stdout",
          "text": [
            "apple\n",
            "banana\n",
            "cherry\n"
          ]
        }
      ]
    },
    {
      "cell_type": "markdown",
      "source": [
        " از بین اعداد 1 تا 10، اعداد فرد را در خروجی چاپ کنیم"
      ],
      "metadata": {
        "id": "Lt5jtuM_0ZVa"
      }
    },
    {
      "cell_type": "code",
      "source": [
        "my_list = [1, 2, 3, 4, 5, 6, 7, 8, 9, 10]\n",
        "for num in my_list:\n",
        "    if num % 2 == 1:\n",
        "        print(num)"
      ],
      "metadata": {
        "colab": {
          "base_uri": "https://localhost:8080/"
        },
        "id": "fb8V8Vm5zyTV",
        "outputId": "8d79b740-cf56-452c-df36-c49ca79df1c8"
      },
      "execution_count": null,
      "outputs": [
        {
          "output_type": "stream",
          "name": "stdout",
          "text": [
            "1\n",
            "3\n",
            "5\n",
            "7\n",
            "9\n"
          ]
        }
      ]
    },
    {
      "cell_type": "markdown",
      "source": [
        "## while"
      ],
      "metadata": {
        "id": "l_JLx-L3IAgW"
      }
    },
    {
      "cell_type": "markdown",
      "source": [
        "\n",
        "\n",
        "```\n",
        "while condition:\n",
        "    # body of while loop\n",
        "```\n",
        "\n"
      ],
      "metadata": {
        "id": "3yhDjLhkTd90"
      }
    },
    {
      "cell_type": "code",
      "source": [
        "cnt = 1\n",
        "while cnt <= 5:\n",
        "    print(cnt)\n",
        "    cnt += 1"
      ],
      "metadata": {
        "colab": {
          "base_uri": "https://localhost:8080/"
        },
        "id": "UBTYbsqF0JcD",
        "outputId": "49589eb6-e9f5-4cbe-88b5-ff5c1517ac2d"
      },
      "execution_count": null,
      "outputs": [
        {
          "output_type": "stream",
          "name": "stdout",
          "text": [
            "1\n",
            "2\n",
            "3\n",
            "4\n",
            "5\n"
          ]
        }
      ]
    },
    {
      "cell_type": "code",
      "source": [
        "num = 4\n",
        "cnt = num - 1\n",
        "while cnt > 0:\n",
        "    num *= cnt\n",
        "    cnt -= 1\n",
        "print(num)"
      ],
      "metadata": {
        "colab": {
          "base_uri": "https://localhost:8080/"
        },
        "id": "A52fOtIv03PK",
        "outputId": "05d0357f-ce83-4c71-acde-55d5fc7ce8b1"
      },
      "execution_count": null,
      "outputs": [
        {
          "output_type": "stream",
          "name": "stdout",
          "text": [
            "24\n"
          ]
        }
      ]
    },
    {
      "cell_type": "code",
      "source": [
        "# Calculate the sum of numbers until user enters 0\n",
        "number = int(input('Enter a number: '))\n",
        "\n",
        "total = 0\n",
        "\n",
        "# iterate until the user enters 0\n",
        "while number != 0:\n",
        "    total += number\n",
        "    number = int(input('Enter a number: '))\n",
        "\n",
        "print('The sum is', total)"
      ],
      "metadata": {
        "colab": {
          "base_uri": "https://localhost:8080/"
        },
        "id": "ZuTO_ZruTpDq",
        "outputId": "e908f42e-dc76-46ed-eb74-e54d5f374e4b"
      },
      "execution_count": null,
      "outputs": [
        {
          "output_type": "stream",
          "name": "stdout",
          "text": [
            "Enter a number: 2\n",
            "Enter a number: 3\n",
            "Enter a number: 4\n",
            "Enter a number: 0\n",
            "The sum is 9\n"
          ]
        }
      ]
    },
    {
      "cell_type": "markdown",
      "source": [
        "# 11.function"
      ],
      "metadata": {
        "id": "D_5OiBd3twBP"
      }
    },
    {
      "cell_type": "markdown",
      "source": [
        "![](https://howsam.org/wp-content/uploads/2020/10/function-1-300x132.jpg)"
      ],
      "metadata": {
        "id": "Gqdhc4vdxdXb"
      }
    },
    {
      "cell_type": "markdown",
      "source": [
        "def : definition\n"
      ],
      "metadata": {
        "id": "7WA4RVCixo0I"
      }
    },
    {
      "cell_type": "code",
      "source": [
        "def say_hello():\n",
        "    print('Hi there!')\n",
        "    print(\"I'm here\")\n"
      ],
      "metadata": {
        "id": "Mib6togfTpgp"
      },
      "execution_count": null,
      "outputs": []
    },
    {
      "cell_type": "code",
      "source": [
        "say_hello()"
      ],
      "metadata": {
        "colab": {
          "base_uri": "https://localhost:8080/"
        },
        "id": "htox3pleTtBg",
        "outputId": "cd526786-3d39-4ea9-e1f6-c7cb576b150a"
      },
      "execution_count": null,
      "outputs": [
        {
          "output_type": "stream",
          "name": "stdout",
          "text": [
            "Hi there!\n",
            "I'm here\n"
          ]
        }
      ]
    },
    {
      "cell_type": "code",
      "source": [
        "def say_hello(name):\n",
        "    print('Hello'+' '+name )\n",
        "    print(\"Lovely to meet u\")\n"
      ],
      "metadata": {
        "id": "k7XvMB3gUVM3"
      },
      "execution_count": null,
      "outputs": []
    },
    {
      "cell_type": "code",
      "source": [
        "first_name = 'Marzieh'\n",
        "say_hello(first_name)"
      ],
      "metadata": {
        "colab": {
          "base_uri": "https://localhost:8080/"
        },
        "id": "QSnqqC2yUlen",
        "outputId": "2c57a02b-8022-41b6-ab37-d88802cdc362"
      },
      "execution_count": null,
      "outputs": [
        {
          "output_type": "stream",
          "name": "stdout",
          "text": [
            "Hello Marzieh\n",
            "Lovely to meet u\n"
          ]
        }
      ]
    },
    {
      "cell_type": "code",
      "source": [
        "def say_hello(name, age):\n",
        "    print('Hello'+ ' ' + name + ' ' +'you are' + ' ' + str(age))\n",
        "    print(\"I'm here\")\n"
      ],
      "metadata": {
        "id": "Rc4uyGesLJKZ"
      },
      "execution_count": null,
      "outputs": []
    },
    {
      "cell_type": "code",
      "source": [
        "first_name = 'Marzieh'\n",
        "age = 26\n",
        "say_hello(first_name, age )"
      ],
      "metadata": {
        "colab": {
          "base_uri": "https://localhost:8080/"
        },
        "id": "LbdQPYtuSoc7",
        "outputId": "feb4b6b4-6a6f-4a34-b28d-fde794afc511"
      },
      "execution_count": null,
      "outputs": [
        {
          "output_type": "stream",
          "name": "stdout",
          "text": [
            "Hello Marzieh you are 26\n",
            "I'm here\n"
          ]
        }
      ]
    },
    {
      "cell_type": "code",
      "source": [
        "def add_num(a,b):\n",
        "    c = a + b\n",
        "    return c"
      ],
      "metadata": {
        "id": "J1zAQO0aSGLV"
      },
      "execution_count": null,
      "outputs": []
    },
    {
      "cell_type": "code",
      "source": [
        "num1 = 312\n",
        "num2 = 4\n",
        "result = add_num(num1, num2)\n",
        "result"
      ],
      "metadata": {
        "colab": {
          "base_uri": "https://localhost:8080/"
        },
        "id": "e6leqlwVSrHy",
        "outputId": "7883a49c-91a4-4ed1-aa4a-3a5e3fb47c3f"
      },
      "execution_count": null,
      "outputs": [
        {
          "output_type": "execute_result",
          "data": {
            "text/plain": [
              "316"
            ]
          },
          "metadata": {},
          "execution_count": 41
        }
      ]
    },
    {
      "cell_type": "code",
      "source": [
        "def sum_list(my_list):\n",
        "    s = 0\n",
        "    for x in my_list:\n",
        "        s = x + s\n",
        "        # s += x\n",
        "    return s"
      ],
      "metadata": {
        "id": "qUG4qbwqVeln"
      },
      "execution_count": null,
      "outputs": []
    },
    {
      "cell_type": "code",
      "source": [
        "print(sum_list([1, 2, 3]))"
      ],
      "metadata": {
        "colab": {
          "base_uri": "https://localhost:8080/"
        },
        "id": "VUvMuPclVelo",
        "outputId": "4ff8644b-3f31-4841-9179-917989dbf76b"
      },
      "execution_count": null,
      "outputs": [
        {
          "output_type": "stream",
          "name": "stdout",
          "text": [
            "6\n"
          ]
        }
      ]
    },
    {
      "cell_type": "code",
      "source": [
        "def odd_even(num):\n",
        "    if num % 2 == 0:\n",
        "        print('Your number is even')\n",
        "    else:\n",
        "        print('Your number is odd')\n"
      ],
      "metadata": {
        "id": "xyiuYKzpVelo"
      },
      "execution_count": null,
      "outputs": []
    },
    {
      "cell_type": "code",
      "source": [
        "number = 11\n",
        "odd_even(number)"
      ],
      "metadata": {
        "colab": {
          "base_uri": "https://localhost:8080/"
        },
        "id": "UrJ3XagVWve7",
        "outputId": "35a7b4f8-99b8-47b3-9708-a293115fce01"
      },
      "execution_count": null,
      "outputs": [
        {
          "output_type": "stream",
          "name": "stdout",
          "text": [
            "Your number is odd\n"
          ]
        }
      ]
    },
    {
      "cell_type": "code",
      "source": [
        "number = 12\n",
        "odd_even(number)"
      ],
      "metadata": {
        "colab": {
          "base_uri": "https://localhost:8080/"
        },
        "id": "5Yz6c__CW6V6",
        "outputId": "7b6ec6c6-51d8-4d81-8f07-923b933cbd9b"
      },
      "execution_count": null,
      "outputs": [
        {
          "output_type": "stream",
          "name": "stdout",
          "text": [
            "Your number is even\n"
          ]
        }
      ]
    },
    {
      "cell_type": "markdown",
      "source": [
        "# 12.class"
      ],
      "metadata": {
        "id": "W38DR4lR1cZZ"
      }
    },
    {
      "cell_type": "markdown",
      "source": [
        "Python is an object oriented programming language.\n",
        "\n"
      ],
      "metadata": {
        "id": "KfoSXenoA-n0"
      }
    },
    {
      "cell_type": "markdown",
      "source": [
        "class name\n",
        "should be\n",
        "\n",
        " توصیف کننده عملکرد آن کلاس باشد\n",
        "\n",
        "قرارداد snake_case\n",
        "\n",
        "AgeEstimation"
      ],
      "metadata": {
        "id": "2AaZZo9PDkTR"
      }
    },
    {
      "cell_type": "code",
      "source": [
        "class"
      ],
      "metadata": {
        "id": "5wIQRDs4hwyP"
      },
      "execution_count": null,
      "outputs": []
    },
    {
      "cell_type": "code",
      "source": [
        "class Player:\n",
        "    def __init__(self, name, age, nationality, injured):\n",
        "        self.name = name\n",
        "        self.age = age\n",
        "        self.nationality = nationality\n",
        "        self.injured = injured\n",
        "    def get_status(self):\n",
        "        print(self.name +':'+ str(self.age)+'\\n injured:'+ str(self.injured))\n",
        "\n",
        "\n",
        "#from TennisPlayer import Player\n",
        "player1 = Player('Rafael Nadal ', 37, 'Spanish', False)\n",
        "player2 = Player('Roger Federer', 42, 'South African', True)"
      ],
      "metadata": {
        "id": "9ML0D04TxLGw"
      },
      "execution_count": null,
      "outputs": []
    },
    {
      "cell_type": "code",
      "source": [
        "print(player1.nationality)"
      ],
      "metadata": {
        "colab": {
          "base_uri": "https://localhost:8080/"
        },
        "id": "yZ2M4crnjTE-",
        "outputId": "de8cc18d-5caf-49d2-82a3-ef288a179b42"
      },
      "execution_count": null,
      "outputs": [
        {
          "output_type": "stream",
          "name": "stdout",
          "text": [
            "Spanish\n"
          ]
        }
      ]
    },
    {
      "cell_type": "code",
      "source": [
        "print(player1.age)"
      ],
      "metadata": {
        "colab": {
          "base_uri": "https://localhost:8080/"
        },
        "id": "-TnYO1Qi8Heq",
        "outputId": "ed9a378a-4e1c-4397-aa4e-2fea51658a9a"
      },
      "execution_count": null,
      "outputs": [
        {
          "output_type": "stream",
          "name": "stdout",
          "text": [
            "37\n"
          ]
        }
      ]
    },
    {
      "cell_type": "code",
      "source": [
        "player1.get_status()\n",
        "print('------------')\n",
        "player2.get_status()\n"
      ],
      "metadata": {
        "colab": {
          "base_uri": "https://localhost:8080/"
        },
        "id": "toF3Qxm79BaY",
        "outputId": "a26266e9-9755-476b-84a8-8fc7d9c29483"
      },
      "execution_count": null,
      "outputs": [
        {
          "output_type": "stream",
          "name": "stdout",
          "text": [
            "Rafael Nadal :37\n",
            " injured:False\n",
            "------------\n",
            "Roger Federer:42\n",
            " injured:True\n"
          ]
        }
      ]
    },
    {
      "cell_type": "code",
      "source": [
        "class student:\n",
        "    def __init__(self, first_name, last_name, age, student_id):\n",
        "      self.first_name = first_name\n",
        "      self.last_name = last_name\n",
        "      self.age = age\n",
        "      self.student_id = student_id\n",
        "\n",
        "    def print_first_name(self):\n",
        "        print('my first name is' +' '+ self.first_name)\n",
        "\n",
        "    def print_last_name(self):\n",
        "        print('my last name is' + ' '+self.last_name)\n",
        "\n",
        "\n",
        "    def print_info(self):\n",
        "        print('I am a student. my name is'+' '+ self.first_name +' '+ self.last_name)"
      ],
      "metadata": {
        "id": "xUInwNnl8IPE"
      },
      "execution_count": null,
      "outputs": []
    },
    {
      "cell_type": "code",
      "source": [
        "class teacher:\n",
        "    def __init__(self, first_name, last_name, age):\n",
        "      self.first_name = first_name\n",
        "      self.last_name = last_name\n",
        "      self.age = age\n",
        "\n",
        "\n",
        "    def print_first_name(self):\n",
        "        print('my first name is' +' '+ self.first_name)\n",
        "\n",
        "    def print_last_name(self):\n",
        "        print('my last name is' +' '+ self.last_name)\n",
        "\n",
        "\n",
        "    def print_info(self):\n",
        "        print('I am a teacher. my name is'+ ' '+self.first_name +' '+ self.last_name)"
      ],
      "metadata": {
        "id": "LY-v65It53_Y"
      },
      "execution_count": null,
      "outputs": []
    },
    {
      "cell_type": "code",
      "source": [
        "student2 = student('dora', 'keshvari', 21, 9850)\n",
        "student1 = student('sara', 'kashani', 26, 9521)\n",
        "teacher1 = teacher('ali', 'irani', 45)"
      ],
      "metadata": {
        "id": "uourTH9mk9WX"
      },
      "execution_count": null,
      "outputs": []
    },
    {
      "cell_type": "code",
      "source": [
        "student1.print_first_name()\n",
        "student1.print_info()\n",
        "teacher1.print_info()"
      ],
      "metadata": {
        "colab": {
          "base_uri": "https://localhost:8080/"
        },
        "id": "Eld647gklWCd",
        "outputId": "dea2beb7-5209-4bd9-e518-9364823e362b"
      },
      "execution_count": null,
      "outputs": [
        {
          "output_type": "stream",
          "name": "stdout",
          "text": [
            "my first name is sara\n",
            "I am a student. my name is sara kashani\n",
            "I am a teacher. my name is ali irani\n"
          ]
        }
      ]
    },
    {
      "cell_type": "markdown",
      "source": [
        "## inheritance"
      ],
      "metadata": {
        "id": "jxOG-crjIjUF"
      }
    },
    {
      "cell_type": "code",
      "source": [
        "class Person:\n",
        "    def __init__(self, first_name, last_name, age):\n",
        "        self.first_name = first_name\n",
        "        self.last_name = last_name\n",
        "        self.age = age\n",
        "\n",
        "\n",
        "    def print_first_name(self):\n",
        "        print('my first name is' +' '+ self.first_name)\n",
        "\n",
        "    def print_last_name(self):\n",
        "        print('my last name is' +' '+ self.last_name)\n"
      ],
      "metadata": {
        "id": "-vVrEQ2PHe79"
      },
      "execution_count": null,
      "outputs": []
    },
    {
      "cell_type": "code",
      "source": [
        "class student(Person):\n",
        "\n",
        "    def print_info(self):\n",
        "        print('I am a student. my name is'+' '+ self.first_name +' '+ self.last_name)"
      ],
      "metadata": {
        "id": "i9JJzGXKIixY"
      },
      "execution_count": null,
      "outputs": []
    },
    {
      "cell_type": "code",
      "source": [
        "class teacher(Person):\n",
        "    def print_info(self):\n",
        "        print('I am a teacher. my name is'+ ' '+self.first_name +' '+ self.last_name)"
      ],
      "metadata": {
        "id": "A1Y48TalIilx"
      },
      "execution_count": null,
      "outputs": []
    },
    {
      "cell_type": "code",
      "source": [
        "student1.print_first_name()\n",
        "student1.print_info()\n",
        "teacher1.print_info()\n",
        "student1.age"
      ],
      "metadata": {
        "colab": {
          "base_uri": "https://localhost:8080/"
        },
        "id": "dzK821Z0Iib5",
        "outputId": "30eed123-315a-4218-f393-6b4a42d13d11"
      },
      "execution_count": null,
      "outputs": [
        {
          "output_type": "stream",
          "name": "stdout",
          "text": [
            "my first name is sara\n",
            "I am a student. my name is sara kashani\n",
            "I am a teacher. my name is ali irani\n"
          ]
        },
        {
          "output_type": "execute_result",
          "data": {
            "text/plain": [
              "26"
            ]
          },
          "metadata": {},
          "execution_count": 60
        }
      ]
    },
    {
      "cell_type": "markdown",
      "source": [
        "# 13.read/write files"
      ],
      "metadata": {
        "id": "ylFCwrOmUftE"
      }
    },
    {
      "cell_type": "code",
      "source": [
        "#name_file = open('path file', 'mode')\n",
        "# mode:\n",
        "#'r' read\n",
        "#'w' write\n",
        "#'a' append\n",
        "#'r+' read and write\n",
        "\n",
        "film = open('/content/film.txt', 'r')\n",
        "#print(name_file.readline())\n",
        "print(film.readline())\n",
        "#print(name_file.readlines())"
      ],
      "metadata": {
        "colab": {
          "base_uri": "https://localhost:8080/"
        },
        "id": "lqXzMNssUgMy",
        "outputId": "585c925d-72c4-4bde-f819-9f16037b1acf"
      },
      "execution_count": null,
      "outputs": [
        {
          "output_type": "stream",
          "name": "stdout",
          "text": [
            "a\n",
            "\n",
            "b\n",
            "\n"
          ]
        }
      ]
    },
    {
      "cell_type": "code",
      "source": [
        "print(film.readline())"
      ],
      "metadata": {
        "colab": {
          "base_uri": "https://localhost:8080/"
        },
        "id": "z7MeL1amXkS3",
        "outputId": "ee069630-39ab-4337-fae8-640e9f0266cc"
      },
      "execution_count": null,
      "outputs": [
        {
          "output_type": "stream",
          "name": "stdout",
          "text": [
            "c\n"
          ]
        }
      ]
    },
    {
      "cell_type": "code",
      "source": [
        "#name_file.close()\n",
        "film.close()"
      ],
      "metadata": {
        "id": "vuZcr3GLYG-3"
      },
      "execution_count": null,
      "outputs": []
    },
    {
      "cell_type": "markdown",
      "source": [
        "# 14.python package"
      ],
      "metadata": {
        "id": "eemmzD8bk7FT"
      }
    },
    {
      "cell_type": "code",
      "source": [
        "#built_in package\n",
        "#1\n",
        "import math\n",
        "#math.\n",
        "print(math.pi)\n",
        "print(math.sqrt(16))\n",
        "#2\n",
        "import os\n",
        "\n",
        "#not built_in\n",
        "import numpy\n",
        "import pandas\n"
      ],
      "metadata": {
        "colab": {
          "base_uri": "https://localhost:8080/"
        },
        "id": "OP7yPWF1lEbc",
        "outputId": "5812ba5c-df16-40a5-ba3b-9756e53ca5eb"
      },
      "execution_count": null,
      "outputs": [
        {
          "output_type": "stream",
          "name": "stdout",
          "text": [
            "3.141592653589793\n",
            "4.0\n"
          ]
        }
      ]
    },
    {
      "cell_type": "code",
      "source": [
        "#version of numpy\n",
        "!pip show numpy"
      ],
      "metadata": {
        "colab": {
          "base_uri": "https://localhost:8080/"
        },
        "id": "Va19NlkbnaFV",
        "outputId": "7b11b03c-94a4-4bf4-975b-c24acc7cb79f"
      },
      "execution_count": null,
      "outputs": [
        {
          "output_type": "stream",
          "name": "stdout",
          "text": [
            "Name: numpy\n",
            "Version: 1.25.2\n",
            "Summary: Fundamental package for array computing in Python\n",
            "Home-page: https://www.numpy.org\n",
            "Author: Travis E. Oliphant et al.\n",
            "Author-email: \n",
            "License: BSD-3-Clause\n",
            "Location: /usr/local/lib/python3.10/dist-packages\n",
            "Requires: \n",
            "Required-by: albumentations, altair, arviz, astropy, autograd, blis, bokeh, bqplot, chex, cmdstanpy, contourpy, cufflinks, cupy-cuda12x, cvxpy, datascience, db-dtypes, dopamine-rl, ecos, flax, folium, geemap, gensim, gym, h5py, holoviews, hyperopt, ibis-framework, imageio, imbalanced-learn, imgaug, jax, jaxlib, librosa, lightgbm, matplotlib, matplotlib-venn, missingno, mizani, ml-dtypes, mlxtend, moviepy, music21, nibabel, numba, numexpr, opencv-contrib-python, opencv-python, opencv-python-headless, opt-einsum, optax, orbax-checkpoint, osqp, pandas, pandas-gbq, pandas-stubs, patsy, plotnine, prophet, pyarrow, pycocotools, pyerfa, pymc, pytensor, python-louvain, PyWavelets, qdldl, qudida, scikit-image, scikit-learn, scipy, scs, seaborn, shapely, sklearn-pandas, soxr, spacy, stanio, statsmodels, tables, tensorboard, tensorflow, tensorflow-datasets, tensorflow-hub, tensorflow-probability, tensorstore, thinc, tifffile, torchtext, torchvision, transformers, wordcloud, xarray, xarray-einstats, xgboost, yellowbrick, yfinance\n"
          ]
        }
      ]
    },
    {
      "cell_type": "code",
      "source": [
        "#pip unistall numpy\n",
        "#!pip install numpy==1.18"
      ],
      "metadata": {
        "id": "jdHNWxi7n1E6"
      },
      "execution_count": null,
      "outputs": []
    },
    {
      "cell_type": "code",
      "source": [
        "#openCV\n",
        "import cv2\n",
        "#!pip install cv2\n",
        "#it's not correct so search it on google\n",
        "#pip install opencv-python==3.3.1.11\n",
        "#https://pypi.org/"
      ],
      "metadata": {
        "id": "xz_voB_JoLZX"
      },
      "execution_count": null,
      "outputs": []
    },
    {
      "cell_type": "markdown",
      "source": [
        "## how to install packages?"
      ],
      "metadata": {
        "id": "zqy2-9TIldWn"
      }
    },
    {
      "cell_type": "code",
      "source": [
        "#!pip install name_packages"
      ],
      "metadata": {
        "id": "8VZ_D92PliTg"
      },
      "execution_count": null,
      "outputs": []
    },
    {
      "cell_type": "markdown",
      "source": [
        "# New Section"
      ],
      "metadata": {
        "id": "pl61VBgYpYMw"
      }
    },
    {
      "cell_type": "code",
      "source": [],
      "metadata": {
        "id": "v2_5lbUopaLu"
      },
      "execution_count": null,
      "outputs": []
    }
  ]
}